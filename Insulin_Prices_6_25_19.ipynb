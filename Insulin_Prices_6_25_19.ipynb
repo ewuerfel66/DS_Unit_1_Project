{
  "nbformat": 4,
  "nbformat_minor": 0,
  "metadata": {
    "colab": {
      "name": "Insulin_Prices_6_25_19.ipynb",
      "version": "0.3.2",
      "provenance": [],
      "collapsed_sections": [],
      "toc_visible": true,
      "include_colab_link": true
    },
    "kernelspec": {
      "name": "python3",
      "display_name": "Python 3"
    }
  },
  "cells": [
    {
      "cell_type": "markdown",
      "metadata": {
        "id": "view-in-github",
        "colab_type": "text"
      },
      "source": [
        "<a href=\"https://colab.research.google.com/github/ewuerfel66/DS_Unit_1_Project/blob/master/Insulin_Prices_6_25_19.ipynb\" target=\"_parent\"><img src=\"https://colab.research.google.com/assets/colab-badge.svg\" alt=\"Open In Colab\"/></a>"
      ]
    },
    {
      "cell_type": "markdown",
      "metadata": {
        "id": "BdaEvCQxKp4g",
        "colab_type": "text"
      },
      "source": [
        "# Insulin Prices in the US"
      ]
    },
    {
      "cell_type": "markdown",
      "metadata": {
        "id": "klN01gLUVrjk",
        "colab_type": "text"
      },
      "source": [
        "What could cause suburban moms to make cross-border drug runs? Or law-abiding citizens to share or sell their prescriptions drugs?\n",
        "\n",
        "**Insulin prices in the US have doubled since 2012.** Have insulin producers doubled the quality of their insulin? Or perhaps made it twice as convenient to administer than it was in 2012. I don't think so.\n",
        "\n",
        "The GIF below shows how the distribution of average insulin price by state changes over time. At the end, it's clear that the price of insulin has changed significantly. If you don't believe your eyes, a T-Test comparing the average prices of insulin in 2012 and 2016 tells us there is less than a *one in 17 million trillion trillion trillion trillion* chance that we're mistaken. **Something has changed.**\n",
        "\n",
        "This is one of many places in our Health Care market that we see overt market failure. Our bevy of market failures is one of many reasons our Health Care costs are so high, and our satisfaction with Health Care is so low."
      ]
    },
    {
      "cell_type": "markdown",
      "metadata": {
        "id": "r63ppGx7KwHa",
        "colab_type": "text"
      },
      "source": [
        "## Imports"
      ]
    },
    {
      "cell_type": "code",
      "metadata": {
        "id": "utQMglTqH-Nx",
        "colab_type": "code",
        "colab": {}
      },
      "source": [
        "import pandas as pd\n",
        "import matplotlib.pyplot as plt\n",
        "import seaborn as sns\n",
        "import statistics"
      ],
      "execution_count": 0,
      "outputs": []
    },
    {
      "cell_type": "markdown",
      "metadata": {
        "id": "2Dpy3fbDK6RV",
        "colab_type": "text"
      },
      "source": [
        "## HCCI Data\n",
        "\n",
        "**Look at price per unit**\n",
        "* 60 units per day per person\n",
        "* These measurements are in 10 mL 100 units/mL\n",
        "\n",
        "[Insulin - Public Data](https://www.healthcostinstitute.org/research/research-resources)\n",
        "\n",
        "Report notes little change in usage, so spending is not increasing because we're using more."
      ]
    },
    {
      "cell_type": "code",
      "metadata": {
        "id": "NX-Y_uAbK4KH",
        "colab_type": "code",
        "colab": {}
      },
      "source": [
        "# Import the data and rename columns\n",
        "df = pd.read_csv('https://www.healthcostinstitute.org/images/pdfs/171117_State_Insulin_Average_Point-of-Sale_Prices.csv')\n",
        "df = df.rename(columns={'Average_Point-of-Sale_Price_per_Script':'ave_price'})"
      ],
      "execution_count": 0,
      "outputs": []
    },
    {
      "cell_type": "markdown",
      "metadata": {
        "id": "0esR-Ko5NuWy",
        "colab_type": "text"
      },
      "source": [
        "### Add Unit and Daily Price Features"
      ]
    },
    {
      "cell_type": "code",
      "metadata": {
        "id": "Fq_pTlogN7kA",
        "colab_type": "code",
        "colab": {}
      },
      "source": [
        "# Unit Prices - prices are for 10 mL, 100 units/mL\n",
        "df['ave_unit_price'] = True\n",
        "df['ave_unit_price'] = df['ave_price'] / 1000\n",
        "\n",
        "# Diabetes patients avergae about 60 units per day\n",
        "df['ave_daily_price'] = True\n",
        "df['ave_daily_price'] = df['ave_unit_price'] * 60"
      ],
      "execution_count": 0,
      "outputs": []
    },
    {
      "cell_type": "code",
      "metadata": {
        "id": "bIGwv1cbLN0z",
        "colab_type": "code",
        "outputId": "21c1fe60-8568-4bef-de5e-0892a572a392",
        "colab": {
          "base_uri": "https://localhost:8080/",
          "height": 206
        }
      },
      "source": [
        "df.head()"
      ],
      "execution_count": 27,
      "outputs": [
        {
          "output_type": "execute_result",
          "data": {
            "text/html": [
              "<div>\n",
              "<style scoped>\n",
              "    .dataframe tbody tr th:only-of-type {\n",
              "        vertical-align: middle;\n",
              "    }\n",
              "\n",
              "    .dataframe tbody tr th {\n",
              "        vertical-align: top;\n",
              "    }\n",
              "\n",
              "    .dataframe thead th {\n",
              "        text-align: right;\n",
              "    }\n",
              "</style>\n",
              "<table border=\"1\" class=\"dataframe\">\n",
              "  <thead>\n",
              "    <tr style=\"text-align: right;\">\n",
              "      <th></th>\n",
              "      <th>year</th>\n",
              "      <th>state</th>\n",
              "      <th>ave_price</th>\n",
              "      <th>ave_unit_price</th>\n",
              "      <th>ave_daily_price</th>\n",
              "    </tr>\n",
              "  </thead>\n",
              "  <tbody>\n",
              "    <tr>\n",
              "      <th>0</th>\n",
              "      <td>2012</td>\n",
              "      <td>AK</td>\n",
              "      <td>320</td>\n",
              "      <td>0.320</td>\n",
              "      <td>19.20</td>\n",
              "    </tr>\n",
              "    <tr>\n",
              "      <th>1</th>\n",
              "      <td>2012</td>\n",
              "      <td>AL</td>\n",
              "      <td>353</td>\n",
              "      <td>0.353</td>\n",
              "      <td>21.18</td>\n",
              "    </tr>\n",
              "    <tr>\n",
              "      <th>2</th>\n",
              "      <td>2012</td>\n",
              "      <td>AR</td>\n",
              "      <td>322</td>\n",
              "      <td>0.322</td>\n",
              "      <td>19.32</td>\n",
              "    </tr>\n",
              "    <tr>\n",
              "      <th>3</th>\n",
              "      <td>2012</td>\n",
              "      <td>AZ</td>\n",
              "      <td>312</td>\n",
              "      <td>0.312</td>\n",
              "      <td>18.72</td>\n",
              "    </tr>\n",
              "    <tr>\n",
              "      <th>4</th>\n",
              "      <td>2012</td>\n",
              "      <td>CA</td>\n",
              "      <td>302</td>\n",
              "      <td>0.302</td>\n",
              "      <td>18.12</td>\n",
              "    </tr>\n",
              "  </tbody>\n",
              "</table>\n",
              "</div>"
            ],
            "text/plain": [
              "   year state  ave_price  ave_unit_price  ave_daily_price\n",
              "0  2012    AK        320           0.320            19.20\n",
              "1  2012    AL        353           0.353            21.18\n",
              "2  2012    AR        322           0.322            19.32\n",
              "3  2012    AZ        312           0.312            18.72\n",
              "4  2012    CA        302           0.302            18.12"
            ]
          },
          "metadata": {
            "tags": []
          },
          "execution_count": 27
        }
      ]
    },
    {
      "cell_type": "markdown",
      "metadata": {
        "id": "_kfvrhukOigX",
        "colab_type": "text"
      },
      "source": [
        "### Split the Data into Years"
      ]
    },
    {
      "cell_type": "code",
      "metadata": {
        "id": "cVY5uKH7LbBP",
        "colab_type": "code",
        "colab": {}
      },
      "source": [
        "insulin_2012 = df[df['year'] == 2012];\n",
        "insulin_2013 = df[df['year'] == 2013];\n",
        "insulin_2014 = df[df['year'] == 2014];\n",
        "insulin_2015 = df[df['year'] == 2015];\n",
        "insulin_2016 = df[df['year'] == 2016];"
      ],
      "execution_count": 0,
      "outputs": []
    },
    {
      "cell_type": "code",
      "metadata": {
        "id": "-SQLcgdjOsD0",
        "colab_type": "code",
        "outputId": "26156fab-8412-4fef-efe2-8267fb6b2161",
        "colab": {
          "base_uri": "https://localhost:8080/",
          "height": 206
        }
      },
      "source": [
        "insulin_2016.head()"
      ],
      "execution_count": 29,
      "outputs": [
        {
          "output_type": "execute_result",
          "data": {
            "text/html": [
              "<div>\n",
              "<style scoped>\n",
              "    .dataframe tbody tr th:only-of-type {\n",
              "        vertical-align: middle;\n",
              "    }\n",
              "\n",
              "    .dataframe tbody tr th {\n",
              "        vertical-align: top;\n",
              "    }\n",
              "\n",
              "    .dataframe thead th {\n",
              "        text-align: right;\n",
              "    }\n",
              "</style>\n",
              "<table border=\"1\" class=\"dataframe\">\n",
              "  <thead>\n",
              "    <tr style=\"text-align: right;\">\n",
              "      <th></th>\n",
              "      <th>year</th>\n",
              "      <th>state</th>\n",
              "      <th>ave_price</th>\n",
              "      <th>ave_unit_price</th>\n",
              "      <th>ave_daily_price</th>\n",
              "    </tr>\n",
              "  </thead>\n",
              "  <tbody>\n",
              "    <tr>\n",
              "      <th>204</th>\n",
              "      <td>2016</td>\n",
              "      <td>AK</td>\n",
              "      <td>809</td>\n",
              "      <td>0.809</td>\n",
              "      <td>48.54</td>\n",
              "    </tr>\n",
              "    <tr>\n",
              "      <th>205</th>\n",
              "      <td>2016</td>\n",
              "      <td>AL</td>\n",
              "      <td>671</td>\n",
              "      <td>0.671</td>\n",
              "      <td>40.26</td>\n",
              "    </tr>\n",
              "    <tr>\n",
              "      <th>206</th>\n",
              "      <td>2016</td>\n",
              "      <td>AR</td>\n",
              "      <td>660</td>\n",
              "      <td>0.660</td>\n",
              "      <td>39.60</td>\n",
              "    </tr>\n",
              "    <tr>\n",
              "      <th>207</th>\n",
              "      <td>2016</td>\n",
              "      <td>AZ</td>\n",
              "      <td>659</td>\n",
              "      <td>0.659</td>\n",
              "      <td>39.54</td>\n",
              "    </tr>\n",
              "    <tr>\n",
              "      <th>208</th>\n",
              "      <td>2016</td>\n",
              "      <td>CA</td>\n",
              "      <td>407</td>\n",
              "      <td>0.407</td>\n",
              "      <td>24.42</td>\n",
              "    </tr>\n",
              "  </tbody>\n",
              "</table>\n",
              "</div>"
            ],
            "text/plain": [
              "     year state  ave_price  ave_unit_price  ave_daily_price\n",
              "204  2016    AK        809           0.809            48.54\n",
              "205  2016    AL        671           0.671            40.26\n",
              "206  2016    AR        660           0.660            39.60\n",
              "207  2016    AZ        659           0.659            39.54\n",
              "208  2016    CA        407           0.407            24.42"
            ]
          },
          "metadata": {
            "tags": []
          },
          "execution_count": 29
        }
      ]
    },
    {
      "cell_type": "markdown",
      "metadata": {
        "id": "8TQqjp7UPNDK",
        "colab_type": "text"
      },
      "source": [
        "### Histograms by Year"
      ]
    },
    {
      "cell_type": "code",
      "metadata": {
        "id": "1dZjw66FOuRl",
        "colab_type": "code",
        "colab": {}
      },
      "source": [
        "# Set cutoffs for bins\n",
        "cuts = [15, 20, 25, 30, 35, 40, 45, 50, 55, 1000]\n",
        "\n",
        "# X Ticks\n",
        "xticks = list(range(15, 56, 5))\n",
        "xnames = ['$15', '$20', '$25', '$30', '$35', '$40', '$45', '$50', '$55']\n",
        "\n",
        "# Y Ticks\n",
        "yticks = list(range(5, 41, 5))"
      ],
      "execution_count": 0,
      "outputs": []
    },
    {
      "cell_type": "code",
      "metadata": {
        "id": "6q3yB6MtPf2M",
        "colab_type": "code",
        "outputId": "8c0659c5-a2b8-4010-c71a-e86f198bad43",
        "colab": {
          "base_uri": "https://localhost:8080/",
          "height": 440
        }
      },
      "source": [
        "sns.set()\n",
        "\n",
        "fig = plt.figure(figsize = (8, 6))\n",
        "\n",
        "ax = sns.distplot(insulin_2012['ave_daily_price'], kde=False, bins=cuts, color='#183856');\n",
        "\n",
        "# Title\n",
        "ax.text(x=33, y=43, s=\"2012\", fontsize=14, fontweight='bold');\n",
        "\n",
        "# Set x-axis label\n",
        "plt.xlabel(x=.5, y=-1, xlabel=\"Average Daily Cost of Insulin\", fontsize=12, fontweight=\"bold\", labelpad=15)\n",
        "plt.xticks(xticks, xnames)\n",
        "\n",
        "# Set y-axis label\n",
        "plt.ylabel(x=1, y=.5, ylabel=\"Amount of States (and DC)\", fontsize=12, fontweight=\"bold\", labelpad=15)\n",
        "plt.yticks(yticks)\n",
        "\n",
        "sns.axes_style(\"darkgrid\")\n",
        "\n",
        "plt.xlim(15, 55);\n",
        "plt.ylim(0, 40);\n",
        "\n",
        "#plt.savefig('insulin2012', dpi=300)"
      ],
      "execution_count": 31,
      "outputs": [
        {
          "output_type": "display_data",
          "data": {
            "image/png": "[encoded data removed]",
            "text/plain": [
              "<Figure size 576x432 with 1 Axes>"
            ]
          },
          "metadata": {
            "tags": []
          }
        }
      ]
    },
    {
      "cell_type": "code",
      "metadata": {
        "id": "sYUuBe-MPixd",
        "colab_type": "code",
        "outputId": "0ad21967-4ac7-4737-82d5-a6be25ba1c33",
        "colab": {
          "base_uri": "https://localhost:8080/",
          "height": 440
        }
      },
      "source": [
        "sns.set()\n",
        "\n",
        "fig = plt.figure(figsize = (8, 6))\n",
        "\n",
        "ax = sns.distplot(insulin_2013['ave_daily_price'], kde=False, bins=cuts, color='#183856');\n",
        "\n",
        "# Title\n",
        "ax.text(x=33, y=43, s=\"2013\", fontsize=14, fontweight='bold');\n",
        "\n",
        "# Set x-axis label\n",
        "plt.xlabel(x=.5, y=-1, xlabel=\"Average Daily Cost of Insulin\", fontsize=12, fontweight=\"bold\", labelpad=15)\n",
        "plt.xticks(xticks, xnames)\n",
        "\n",
        "# Set y-axis label\n",
        "plt.ylabel(x=1, y=.5, ylabel=\"Amount of States (and DC)\", fontsize=12, fontweight=\"bold\", labelpad=15)\n",
        "plt.yticks(yticks)\n",
        "\n",
        "sns.axes_style(\"darkgrid\")\n",
        "\n",
        "plt.xlim(15, 55);\n",
        "plt.ylim(0, 40);\n",
        "\n",
        "#plt.savefig('insulin2013', dpi=300)"
      ],
      "execution_count": 32,
      "outputs": [
        {
          "output_type": "display_data",
          "data": {
            "image/png": "[encoded data removed]",
            "text/plain": [
              "<Figure size 576x432 with 1 Axes>"
            ]
          },
          "metadata": {
            "tags": []
          }
        }
      ]
    },
    {
      "cell_type": "code",
      "metadata": {
        "id": "__4boDZPP0bF",
        "colab_type": "code",
        "outputId": "152beced-3463-4d28-f1aa-03d54c519412",
        "colab": {
          "base_uri": "https://localhost:8080/",
          "height": 440
        }
      },
      "source": [
        "sns.set()\n",
        "\n",
        "fig = plt.figure(figsize = (8, 6))\n",
        "\n",
        "ax = sns.distplot(insulin_2014['ave_daily_price'], kde=False, bins=cuts, color='#183856');\n",
        "\n",
        "# Title\n",
        "ax.text(x=33, y=43, s=\"2014\", fontsize=14, fontweight='bold');\n",
        "\n",
        "# Set x-axis label\n",
        "plt.xlabel(x=.5, y=-1, xlabel=\"Average Daily Cost of Insulin\", fontsize=12, fontweight=\"bold\", labelpad=15)\n",
        "plt.xticks(xticks, xnames)\n",
        "\n",
        "# Set y-axis label\n",
        "plt.ylabel(x=1, y=.5, ylabel=\"Amount of States (and DC)\", fontsize=12, fontweight=\"bold\", labelpad=15)\n",
        "plt.yticks(yticks)\n",
        "\n",
        "sns.axes_style(\"darkgrid\")\n",
        "\n",
        "plt.xlim(15, 55);\n",
        "plt.ylim(0, 40);\n",
        "\n",
        "#plt.savefig('insulin2014', dpi=300)"
      ],
      "execution_count": 33,
      "outputs": [
        {
          "output_type": "display_data",
          "data": {
            "image/png": "[encoded data removed]",
            "text/plain": [
              "<Figure size 576x432 with 1 Axes>"
            ]
          },
          "metadata": {
            "tags": []
          }
        }
      ]
    },
    {
      "cell_type": "code",
      "metadata": {
        "id": "iTgHmRbrQD-d",
        "colab_type": "code",
        "outputId": "6ba344ec-6393-486e-a1a9-8001d123cbf3",
        "colab": {
          "base_uri": "https://localhost:8080/",
          "height": 440
        }
      },
      "source": [
        "sns.set()\n",
        "\n",
        "fig = plt.figure(figsize = (8, 6))\n",
        "\n",
        "ax = sns.distplot(insulin_2015['ave_daily_price'], kde=False, bins=cuts, color='#183856');\n",
        "\n",
        "# Title\n",
        "ax.text(x=33, y=43, s=\"2015\", fontsize=14, fontweight='bold');\n",
        "\n",
        "# Set x-axis label\n",
        "plt.xlabel(x=.5, y=-1, xlabel=\"Average Daily Cost of Insulin\", fontsize=12, fontweight=\"bold\", labelpad=15)\n",
        "plt.xticks(xticks, xnames)\n",
        "\n",
        "# Set y-axis label\n",
        "plt.ylabel(x=1, y=.5, ylabel=\"Amount of States (and DC)\", fontsize=12, fontweight=\"bold\", labelpad=15)\n",
        "plt.yticks(yticks)\n",
        "\n",
        "sns.axes_style(\"darkgrid\")\n",
        "\n",
        "plt.xlim(15, 55);\n",
        "plt.ylim(0, 40);\n",
        "\n",
        "#plt.savefig('insulin2015', dpi=300)"
      ],
      "execution_count": 34,
      "outputs": [
        {
          "output_type": "display_data",
          "data": {
            "image/png": "[encoded data removed]",
            "text/plain": [
              "<Figure size 576x432 with 1 Axes>"
            ]
          },
          "metadata": {
            "tags": []
          }
        }
      ]
    },
    {
      "cell_type": "code",
      "metadata": {
        "id": "me06FNthQJDM",
        "colab_type": "code",
        "outputId": "f09f7908-1662-4fe6-c859-225578a5e323",
        "colab": {
          "base_uri": "https://localhost:8080/",
          "height": 440
        }
      },
      "source": [
        "sns.set()\n",
        "\n",
        "fig = plt.figure(figsize = (8, 6))\n",
        "\n",
        "ax = sns.distplot(insulin_2016['ave_daily_price'], kde=False, bins=cuts, color='#183856');\n",
        "\n",
        "# Title\n",
        "ax.text(x=33, y=43, s=\"2016\", fontsize=14, fontweight='bold');\n",
        "\n",
        "# Set x-axis label\n",
        "plt.xlabel(x=.5, y=-1, xlabel=\"Average Daily Cost of Insulin\", fontsize=12, fontweight=\"bold\", labelpad=15)\n",
        "plt.xticks(xticks, xnames)\n",
        "\n",
        "# Set y-axis label\n",
        "plt.ylabel(x=1, y=.5, ylabel=\"Amount of States (and DC)\", fontsize=12, fontweight=\"bold\", labelpad=15)\n",
        "plt.yticks(yticks)\n",
        "\n",
        "sns.axes_style(\"darkgrid\")\n",
        "\n",
        "plt.xlim(15, 55);\n",
        "plt.ylim(0, 40);\n",
        "\n",
        "#plt.savefig('insulin2016', dpi=300)"
      ],
      "execution_count": 35,
      "outputs": [
        {
          "output_type": "display_data",
          "data": {
            "image/png": "[encoded data removed]",
            "text/plain": [
              "<Figure size 576x432 with 1 Axes>"
            ]
          },
          "metadata": {
            "tags": []
          }
        }
      ]
    },
    {
      "cell_type": "code",
      "metadata": {
        "id": "tUwtuzgvQO4u",
        "colab_type": "code",
        "outputId": "4f82cf4a-5f89-406f-afe9-e593887ecd45",
        "colab": {
          "base_uri": "https://localhost:8080/",
          "height": 440
        }
      },
      "source": [
        "sns.set()\n",
        "\n",
        "fig = plt.figure(figsize = (8, 6))\n",
        "\n",
        "ax = sns.distplot(insulin_2012['ave_daily_price'], label='2012', kde=False, bins=cuts, color='#183856');\n",
        "ax = sns.distplot(insulin_2016['ave_daily_price'], label='2016', kde=False, bins=cuts, color='#CC6600');\n",
        "\n",
        "# Title & Subtitle\n",
        "ax.text(x=21, y=43, s=\"Insulin Price Rises, 2012-2016\", fontsize=14, fontweight='bold');\n",
        "# ax.text(x=15, y=41, s=\"Where is the money going?\", fontsize=12);\n",
        "\n",
        "# Set x-axis label\n",
        "plt.xlabel(x=.5, y=-1, xlabel=\"Average Daily Cost of Insulin\", fontsize=12, fontweight=\"bold\", labelpad=15)\n",
        "plt.xticks(xticks, xnames)\n",
        "\n",
        "# Set y-axis label\n",
        "plt.ylabel(x=1, y=.5, ylabel=\"Amount of States (and DC)\", fontsize=12, fontweight=\"bold\", labelpad=15)\n",
        "plt.yticks(yticks)\n",
        "\n",
        "# Add the legend\n",
        "plt.legend(['2012', '2016'])\n",
        "\n",
        "sns.axes_style(\"darkgrid\")\n",
        "\n",
        "# Set domain and range\n",
        "plt.xlim(15, 55);\n",
        "plt.ylim(0, 40);\n",
        "\n",
        "#plt.savefig('insulin_change', dpi=300)"
      ],
      "execution_count": 36,
      "outputs": [
        {
          "output_type": "display_data",
          "data": {
            "image/png": "[encoded data removed]",
            "text/plain": [
              "<Figure size 576x432 with 1 Axes>"
            ]
          },
          "metadata": {
            "tags": []
          }
        }
      ]
    },
    {
      "cell_type": "markdown",
      "metadata": {
        "id": "k-GgsSQvQJiP",
        "colab_type": "text"
      },
      "source": [
        "### Top Values"
      ]
    },
    {
      "cell_type": "code",
      "metadata": {
        "id": "zpQZ6KIdQMM5",
        "colab_type": "code",
        "outputId": "ed3ecaa4-7613-4cc2-b712-84cce7e402ef",
        "colab": {
          "base_uri": "https://localhost:8080/",
          "height": 206
        }
      },
      "source": [
        "insulin_2012.sort_values(by='ave_daily_price', ascending=False).head()"
      ],
      "execution_count": 37,
      "outputs": [
        {
          "output_type": "execute_result",
          "data": {
            "text/html": [
              "<div>\n",
              "<style scoped>\n",
              "    .dataframe tbody tr th:only-of-type {\n",
              "        vertical-align: middle;\n",
              "    }\n",
              "\n",
              "    .dataframe tbody tr th {\n",
              "        vertical-align: top;\n",
              "    }\n",
              "\n",
              "    .dataframe thead th {\n",
              "        text-align: right;\n",
              "    }\n",
              "</style>\n",
              "<table border=\"1\" class=\"dataframe\">\n",
              "  <thead>\n",
              "    <tr style=\"text-align: right;\">\n",
              "      <th></th>\n",
              "      <th>year</th>\n",
              "      <th>state</th>\n",
              "      <th>ave_price</th>\n",
              "      <th>ave_unit_price</th>\n",
              "      <th>ave_daily_price</th>\n",
              "    </tr>\n",
              "  </thead>\n",
              "  <tbody>\n",
              "    <tr>\n",
              "      <th>8</th>\n",
              "      <td>2012</td>\n",
              "      <td>DE</td>\n",
              "      <td>426</td>\n",
              "      <td>0.426</td>\n",
              "      <td>25.56</td>\n",
              "    </tr>\n",
              "    <tr>\n",
              "      <th>46</th>\n",
              "      <td>2012</td>\n",
              "      <td>VT</td>\n",
              "      <td>420</td>\n",
              "      <td>0.420</td>\n",
              "      <td>25.20</td>\n",
              "    </tr>\n",
              "    <tr>\n",
              "      <th>21</th>\n",
              "      <td>2012</td>\n",
              "      <td>ME</td>\n",
              "      <td>419</td>\n",
              "      <td>0.419</td>\n",
              "      <td>25.14</td>\n",
              "    </tr>\n",
              "    <tr>\n",
              "      <th>20</th>\n",
              "      <td>2012</td>\n",
              "      <td>MD</td>\n",
              "      <td>403</td>\n",
              "      <td>0.403</td>\n",
              "      <td>24.18</td>\n",
              "    </tr>\n",
              "    <tr>\n",
              "      <th>31</th>\n",
              "      <td>2012</td>\n",
              "      <td>NJ</td>\n",
              "      <td>394</td>\n",
              "      <td>0.394</td>\n",
              "      <td>23.64</td>\n",
              "    </tr>\n",
              "  </tbody>\n",
              "</table>\n",
              "</div>"
            ],
            "text/plain": [
              "    year state  ave_price  ave_unit_price  ave_daily_price\n",
              "8   2012    DE        426           0.426            25.56\n",
              "46  2012    VT        420           0.420            25.20\n",
              "21  2012    ME        419           0.419            25.14\n",
              "20  2012    MD        403           0.403            24.18\n",
              "31  2012    NJ        394           0.394            23.64"
            ]
          },
          "metadata": {
            "tags": []
          },
          "execution_count": 37
        }
      ]
    },
    {
      "cell_type": "code",
      "metadata": {
        "id": "svdszUwnQkb4",
        "colab_type": "code",
        "outputId": "8fb31d0a-000f-414e-a7b6-2be77ad4daa0",
        "colab": {
          "base_uri": "https://localhost:8080/",
          "height": 206
        }
      },
      "source": [
        "insulin_2012.sort_values(by='ave_daily_price').head()"
      ],
      "execution_count": 38,
      "outputs": [
        {
          "output_type": "execute_result",
          "data": {
            "text/html": [
              "<div>\n",
              "<style scoped>\n",
              "    .dataframe tbody tr th:only-of-type {\n",
              "        vertical-align: middle;\n",
              "    }\n",
              "\n",
              "    .dataframe tbody tr th {\n",
              "        vertical-align: top;\n",
              "    }\n",
              "\n",
              "    .dataframe thead th {\n",
              "        text-align: right;\n",
              "    }\n",
              "</style>\n",
              "<table border=\"1\" class=\"dataframe\">\n",
              "  <thead>\n",
              "    <tr style=\"text-align: right;\">\n",
              "      <th></th>\n",
              "      <th>year</th>\n",
              "      <th>state</th>\n",
              "      <th>ave_price</th>\n",
              "      <th>ave_unit_price</th>\n",
              "      <th>ave_daily_price</th>\n",
              "    </tr>\n",
              "  </thead>\n",
              "  <tbody>\n",
              "    <tr>\n",
              "      <th>32</th>\n",
              "      <td>2012</td>\n",
              "      <td>NM</td>\n",
              "      <td>300</td>\n",
              "      <td>0.300</td>\n",
              "      <td>18.00</td>\n",
              "    </tr>\n",
              "    <tr>\n",
              "      <th>4</th>\n",
              "      <td>2012</td>\n",
              "      <td>CA</td>\n",
              "      <td>302</td>\n",
              "      <td>0.302</td>\n",
              "      <td>18.12</td>\n",
              "    </tr>\n",
              "    <tr>\n",
              "      <th>41</th>\n",
              "      <td>2012</td>\n",
              "      <td>SD</td>\n",
              "      <td>305</td>\n",
              "      <td>0.305</td>\n",
              "      <td>18.30</td>\n",
              "    </tr>\n",
              "    <tr>\n",
              "      <th>7</th>\n",
              "      <td>2012</td>\n",
              "      <td>DC</td>\n",
              "      <td>306</td>\n",
              "      <td>0.306</td>\n",
              "      <td>18.36</td>\n",
              "    </tr>\n",
              "    <tr>\n",
              "      <th>36</th>\n",
              "      <td>2012</td>\n",
              "      <td>OK</td>\n",
              "      <td>309</td>\n",
              "      <td>0.309</td>\n",
              "      <td>18.54</td>\n",
              "    </tr>\n",
              "  </tbody>\n",
              "</table>\n",
              "</div>"
            ],
            "text/plain": [
              "    year state  ave_price  ave_unit_price  ave_daily_price\n",
              "32  2012    NM        300           0.300            18.00\n",
              "4   2012    CA        302           0.302            18.12\n",
              "41  2012    SD        305           0.305            18.30\n",
              "7   2012    DC        306           0.306            18.36\n",
              "36  2012    OK        309           0.309            18.54"
            ]
          },
          "metadata": {
            "tags": []
          },
          "execution_count": 38
        }
      ]
    },
    {
      "cell_type": "code",
      "metadata": {
        "id": "oH2g3BhAQes2",
        "colab_type": "code",
        "outputId": "c56100ff-94f5-4ae2-e8e2-14119140e030",
        "colab": {
          "base_uri": "https://localhost:8080/",
          "height": 206
        }
      },
      "source": [
        "insulin_2016.sort_values(by='ave_daily_price', ascending=False).head()"
      ],
      "execution_count": 39,
      "outputs": [
        {
          "output_type": "execute_result",
          "data": {
            "text/html": [
              "<div>\n",
              "<style scoped>\n",
              "    .dataframe tbody tr th:only-of-type {\n",
              "        vertical-align: middle;\n",
              "    }\n",
              "\n",
              "    .dataframe tbody tr th {\n",
              "        vertical-align: top;\n",
              "    }\n",
              "\n",
              "    .dataframe thead th {\n",
              "        text-align: right;\n",
              "    }\n",
              "</style>\n",
              "<table border=\"1\" class=\"dataframe\">\n",
              "  <thead>\n",
              "    <tr style=\"text-align: right;\">\n",
              "      <th></th>\n",
              "      <th>year</th>\n",
              "      <th>state</th>\n",
              "      <th>ave_price</th>\n",
              "      <th>ave_unit_price</th>\n",
              "      <th>ave_daily_price</th>\n",
              "    </tr>\n",
              "  </thead>\n",
              "  <tbody>\n",
              "    <tr>\n",
              "      <th>225</th>\n",
              "      <td>2016</td>\n",
              "      <td>ME</td>\n",
              "      <td>865</td>\n",
              "      <td>0.865</td>\n",
              "      <td>51.90</td>\n",
              "    </tr>\n",
              "    <tr>\n",
              "      <th>212</th>\n",
              "      <td>2016</td>\n",
              "      <td>DE</td>\n",
              "      <td>818</td>\n",
              "      <td>0.818</td>\n",
              "      <td>49.08</td>\n",
              "    </tr>\n",
              "    <tr>\n",
              "      <th>204</th>\n",
              "      <td>2016</td>\n",
              "      <td>AK</td>\n",
              "      <td>809</td>\n",
              "      <td>0.809</td>\n",
              "      <td>48.54</td>\n",
              "    </tr>\n",
              "    <tr>\n",
              "      <th>248</th>\n",
              "      <td>2016</td>\n",
              "      <td>UT</td>\n",
              "      <td>768</td>\n",
              "      <td>0.768</td>\n",
              "      <td>46.08</td>\n",
              "    </tr>\n",
              "    <tr>\n",
              "      <th>224</th>\n",
              "      <td>2016</td>\n",
              "      <td>MD</td>\n",
              "      <td>767</td>\n",
              "      <td>0.767</td>\n",
              "      <td>46.02</td>\n",
              "    </tr>\n",
              "  </tbody>\n",
              "</table>\n",
              "</div>"
            ],
            "text/plain": [
              "     year state  ave_price  ave_unit_price  ave_daily_price\n",
              "225  2016    ME        865           0.865            51.90\n",
              "212  2016    DE        818           0.818            49.08\n",
              "204  2016    AK        809           0.809            48.54\n",
              "248  2016    UT        768           0.768            46.08\n",
              "224  2016    MD        767           0.767            46.02"
            ]
          },
          "metadata": {
            "tags": []
          },
          "execution_count": 39
        }
      ]
    },
    {
      "cell_type": "code",
      "metadata": {
        "id": "BC-vSmVKQqLA",
        "colab_type": "code",
        "outputId": "269850e6-fcb8-4f42-9ed5-d5fe19336dcf",
        "colab": {
          "base_uri": "https://localhost:8080/",
          "height": 206
        }
      },
      "source": [
        "insulin_2016.sort_values(by='ave_daily_price').head()"
      ],
      "execution_count": 40,
      "outputs": [
        {
          "output_type": "execute_result",
          "data": {
            "text/html": [
              "<div>\n",
              "<style scoped>\n",
              "    .dataframe tbody tr th:only-of-type {\n",
              "        vertical-align: middle;\n",
              "    }\n",
              "\n",
              "    .dataframe tbody tr th {\n",
              "        vertical-align: top;\n",
              "    }\n",
              "\n",
              "    .dataframe thead th {\n",
              "        text-align: right;\n",
              "    }\n",
              "</style>\n",
              "<table border=\"1\" class=\"dataframe\">\n",
              "  <thead>\n",
              "    <tr style=\"text-align: right;\">\n",
              "      <th></th>\n",
              "      <th>year</th>\n",
              "      <th>state</th>\n",
              "      <th>ave_price</th>\n",
              "      <th>ave_unit_price</th>\n",
              "      <th>ave_daily_price</th>\n",
              "    </tr>\n",
              "  </thead>\n",
              "  <tbody>\n",
              "    <tr>\n",
              "      <th>208</th>\n",
              "      <td>2016</td>\n",
              "      <td>CA</td>\n",
              "      <td>407</td>\n",
              "      <td>0.407</td>\n",
              "      <td>24.42</td>\n",
              "    </tr>\n",
              "    <tr>\n",
              "      <th>215</th>\n",
              "      <td>2016</td>\n",
              "      <td>HI</td>\n",
              "      <td>573</td>\n",
              "      <td>0.573</td>\n",
              "      <td>34.38</td>\n",
              "    </tr>\n",
              "    <tr>\n",
              "      <th>211</th>\n",
              "      <td>2016</td>\n",
              "      <td>DC</td>\n",
              "      <td>607</td>\n",
              "      <td>0.607</td>\n",
              "      <td>36.42</td>\n",
              "    </tr>\n",
              "    <tr>\n",
              "      <th>222</th>\n",
              "      <td>2016</td>\n",
              "      <td>LA</td>\n",
              "      <td>617</td>\n",
              "      <td>0.617</td>\n",
              "      <td>37.02</td>\n",
              "    </tr>\n",
              "    <tr>\n",
              "      <th>229</th>\n",
              "      <td>2016</td>\n",
              "      <td>MS</td>\n",
              "      <td>626</td>\n",
              "      <td>0.626</td>\n",
              "      <td>37.56</td>\n",
              "    </tr>\n",
              "  </tbody>\n",
              "</table>\n",
              "</div>"
            ],
            "text/plain": [
              "     year state  ave_price  ave_unit_price  ave_daily_price\n",
              "208  2016    CA        407           0.407            24.42\n",
              "215  2016    HI        573           0.573            34.38\n",
              "211  2016    DC        607           0.607            36.42\n",
              "222  2016    LA        617           0.617            37.02\n",
              "229  2016    MS        626           0.626            37.56"
            ]
          },
          "metadata": {
            "tags": []
          },
          "execution_count": 40
        }
      ]
    },
    {
      "cell_type": "markdown",
      "metadata": {
        "id": "Sb3W1h5YXWCJ",
        "colab_type": "text"
      },
      "source": [
        "### Variance"
      ]
    },
    {
      "cell_type": "code",
      "metadata": {
        "id": "CU5nu81qXhAq",
        "colab_type": "code",
        "outputId": "350368d1-f60b-4eca-e784-061c7b140874",
        "colab": {
          "base_uri": "https://localhost:8080/",
          "height": 34
        }
      },
      "source": [
        "insulin_2012['ave_daily_price'].std()"
      ],
      "execution_count": 41,
      "outputs": [
        {
          "output_type": "execute_result",
          "data": {
            "text/plain": [
              "1.8306342198972527"
            ]
          },
          "metadata": {
            "tags": []
          },
          "execution_count": 41
        }
      ]
    },
    {
      "cell_type": "code",
      "metadata": {
        "id": "LbFO4IYTXg0P",
        "colab_type": "code",
        "outputId": "8d041240-10fe-4933-ebf7-0f48c63214cd",
        "colab": {
          "base_uri": "https://localhost:8080/",
          "height": 34
        }
      },
      "source": [
        "insulin_2013['ave_daily_price'].std()"
      ],
      "execution_count": 42,
      "outputs": [
        {
          "output_type": "execute_result",
          "data": {
            "text/plain": [
              "2.4420174880136933"
            ]
          },
          "metadata": {
            "tags": []
          },
          "execution_count": 42
        }
      ]
    },
    {
      "cell_type": "code",
      "metadata": {
        "id": "fLoFzhPiXgrY",
        "colab_type": "code",
        "outputId": "cf550f73-96f7-4afc-c3b9-c3df77c534ae",
        "colab": {
          "base_uri": "https://localhost:8080/",
          "height": 34
        }
      },
      "source": [
        "insulin_2014['ave_daily_price'].std()"
      ],
      "execution_count": 43,
      "outputs": [
        {
          "output_type": "execute_result",
          "data": {
            "text/plain": [
              "3.1298996789034637"
            ]
          },
          "metadata": {
            "tags": []
          },
          "execution_count": 43
        }
      ]
    },
    {
      "cell_type": "code",
      "metadata": {
        "id": "3fr6xHbuXgjE",
        "colab_type": "code",
        "outputId": "48b11b31-bb88-4d76-f91d-ec7124785d0e",
        "colab": {
          "base_uri": "https://localhost:8080/",
          "height": 34
        }
      },
      "source": [
        "insulin_2015['ave_daily_price'].std()"
      ],
      "execution_count": 44,
      "outputs": [
        {
          "output_type": "execute_result",
          "data": {
            "text/plain": [
              "3.7637165611853893"
            ]
          },
          "metadata": {
            "tags": []
          },
          "execution_count": 44
        }
      ]
    },
    {
      "cell_type": "code",
      "metadata": {
        "id": "Sk31LXTTXgbg",
        "colab_type": "code",
        "outputId": "fd9fa8b5-5446-408c-d210-6b318804598d",
        "colab": {
          "base_uri": "https://localhost:8080/",
          "height": 34
        }
      },
      "source": [
        "insulin_2016['ave_daily_price'].std()"
      ],
      "execution_count": 45,
      "outputs": [
        {
          "output_type": "execute_result",
          "data": {
            "text/plain": [
              "4.036091761330799"
            ]
          },
          "metadata": {
            "tags": []
          },
          "execution_count": 45
        }
      ]
    },
    {
      "cell_type": "markdown",
      "metadata": {
        "id": "kyBcLppvQztC",
        "colab_type": "text"
      },
      "source": [
        "## ***Heat Maps?***"
      ]
    },
    {
      "cell_type": "code",
      "metadata": {
        "id": "lxKJvS2Sa-eF",
        "colab_type": "code",
        "outputId": "9dc36f13-47a6-4d2d-fedb-94d4047b00c4",
        "colab": {
          "base_uri": "https://localhost:8080/",
          "height": 469
        }
      },
      "source": [
        "import plotly.plotly as py\n",
        "import plotly.graph_objs as go\n",
        "\n",
        "data = [go.Choropleth(\n",
        "    locations = insulin_2016['state'],\n",
        "    z = insulin_2016['ave_daily_price'].astype(float),\n",
        "    locationmode = 'USA-states',\n",
        "    text = insulin_2016['ave_daily_price'],\n",
        "    marker = go.choropleth.Marker(\n",
        "        line = go.choropleth.marker.Line(\n",
        "            color = 'rgb(255,255,255)',\n",
        "            width = 2\n",
        "        )),\n",
        "    colorbar = go.choropleth.ColorBar(\n",
        "        title = \"USD per day\")\n",
        ")]\n",
        "\n",
        "layout = go.Layout(\n",
        "    title = go.layout.Title(\n",
        "        text = '2016 Daily Insulin Prices<br>(Hover for cost)'\n",
        "    ),\n",
        "    geo = go.layout.Geo(\n",
        "        scope = 'usa',\n",
        "        projection = go.layout.geo.Projection(type = 'albers usa'),\n",
        "        showlakes = True,\n",
        "        lakecolor = 'rgb(255, 255, 255)'),\n",
        ")\n",
        "\n",
        "fig = go.Figure(data = data, layout = layout)\n",
        "py.iplot(fig)"
      ],
      "execution_count": 47,
      "outputs": [
        {
          "output_type": "stream",
          "text": [
            "Aw, snap! We didn't get a username with your request.\n",
            "\n",
            "Don't have an account? https://plot.ly/api_signup\n",
            "\n",
            "Questions? accounts@plot.ly\n"
          ],
          "name": "stdout"
        },
        {
          "output_type": "error",
          "ename": "PlotlyError",
          "evalue": "ignored",
          "traceback": [
            "\u001b[0;31m---------------------------------------------------------------------------\u001b[0m",
            "\u001b[0;31mPlotlyError\u001b[0m                               Traceback (most recent call last)",
            "\u001b[0;32m<ipython-input-47-f6a3701a0667>\u001b[0m in \u001b[0;36m<module>\u001b[0;34m()\u001b[0m\n\u001b[1;32m     28\u001b[0m \u001b[0;34m\u001b[0m\u001b[0m\n\u001b[1;32m     29\u001b[0m \u001b[0mfig\u001b[0m \u001b[0;34m=\u001b[0m \u001b[0mgo\u001b[0m\u001b[0;34m.\u001b[0m\u001b[0mFigure\u001b[0m\u001b[0;34m(\u001b[0m\u001b[0mdata\u001b[0m \u001b[0;34m=\u001b[0m \u001b[0mdata\u001b[0m\u001b[0;34m,\u001b[0m \u001b[0mlayout\u001b[0m \u001b[0;34m=\u001b[0m \u001b[0mlayout\u001b[0m\u001b[0;34m)\u001b[0m\u001b[0;34m\u001b[0m\u001b[0;34m\u001b[0m\u001b[0m\n\u001b[0;32m---> 30\u001b[0;31m \u001b[0mpy\u001b[0m\u001b[0;34m.\u001b[0m\u001b[0miplot\u001b[0m\u001b[0;34m(\u001b[0m\u001b[0mfig\u001b[0m\u001b[0;34m)\u001b[0m\u001b[0;34m\u001b[0m\u001b[0;34m\u001b[0m\u001b[0m\n\u001b[0m",
            "\u001b[0;32m/usr/local/lib/python3.6/dist-packages/plotly/plotly/plotly.py\u001b[0m in \u001b[0;36miplot\u001b[0;34m(figure_or_data, **plot_options)\u001b[0m\n\u001b[1;32m    168\u001b[0m         \u001b[0membed_options\u001b[0m\u001b[0;34m[\u001b[0m\u001b[0;34m'height'\u001b[0m\u001b[0;34m]\u001b[0m \u001b[0;34m=\u001b[0m \u001b[0mstr\u001b[0m\u001b[0;34m(\u001b[0m\u001b[0membed_options\u001b[0m\u001b[0;34m[\u001b[0m\u001b[0;34m'height'\u001b[0m\u001b[0;34m]\u001b[0m\u001b[0;34m)\u001b[0m \u001b[0;34m+\u001b[0m \u001b[0;34m'px'\u001b[0m\u001b[0;34m\u001b[0m\u001b[0;34m\u001b[0m\u001b[0m\n\u001b[1;32m    169\u001b[0m \u001b[0;34m\u001b[0m\u001b[0m\n\u001b[0;32m--> 170\u001b[0;31m     \u001b[0;32mreturn\u001b[0m \u001b[0mtools\u001b[0m\u001b[0;34m.\u001b[0m\u001b[0membed\u001b[0m\u001b[0;34m(\u001b[0m\u001b[0murl\u001b[0m\u001b[0;34m,\u001b[0m \u001b[0;34m**\u001b[0m\u001b[0membed_options\u001b[0m\u001b[0;34m)\u001b[0m\u001b[0;34m\u001b[0m\u001b[0;34m\u001b[0m\u001b[0m\n\u001b[0m\u001b[1;32m    171\u001b[0m \u001b[0;34m\u001b[0m\u001b[0m\n\u001b[1;32m    172\u001b[0m \u001b[0;34m\u001b[0m\u001b[0m\n",
            "\u001b[0;32m/usr/local/lib/python3.6/dist-packages/plotly/tools.py\u001b[0m in \u001b[0;36membed\u001b[0;34m(file_owner_or_url, file_id, width, height)\u001b[0m\n\u001b[1;32m    399\u001b[0m         \u001b[0;32melse\u001b[0m\u001b[0;34m:\u001b[0m\u001b[0;34m\u001b[0m\u001b[0;34m\u001b[0m\u001b[0m\n\u001b[1;32m    400\u001b[0m             \u001b[0murl\u001b[0m \u001b[0;34m=\u001b[0m \u001b[0mfile_owner_or_url\u001b[0m\u001b[0;34m\u001b[0m\u001b[0;34m\u001b[0m\u001b[0m\n\u001b[0;32m--> 401\u001b[0;31m         \u001b[0;32mreturn\u001b[0m \u001b[0mPlotlyDisplay\u001b[0m\u001b[0;34m(\u001b[0m\u001b[0murl\u001b[0m\u001b[0;34m,\u001b[0m \u001b[0mwidth\u001b[0m\u001b[0;34m,\u001b[0m \u001b[0mheight\u001b[0m\u001b[0;34m)\u001b[0m\u001b[0;34m\u001b[0m\u001b[0;34m\u001b[0m\u001b[0m\n\u001b[0m\u001b[1;32m    402\u001b[0m     \u001b[0;32melse\u001b[0m\u001b[0;34m:\u001b[0m\u001b[0;34m\u001b[0m\u001b[0;34m\u001b[0m\u001b[0m\n\u001b[1;32m    403\u001b[0m         if (get_config_defaults()['plotly_domain']\n",
            "\u001b[0;32m/usr/local/lib/python3.6/dist-packages/plotly/tools.py\u001b[0m in \u001b[0;36m__init__\u001b[0;34m(self, url, width, height)\u001b[0m\n\u001b[1;32m   1479\u001b[0m         \u001b[0;32mdef\u001b[0m \u001b[0m__init__\u001b[0m\u001b[0;34m(\u001b[0m\u001b[0mself\u001b[0m\u001b[0;34m,\u001b[0m \u001b[0murl\u001b[0m\u001b[0;34m,\u001b[0m \u001b[0mwidth\u001b[0m\u001b[0;34m,\u001b[0m \u001b[0mheight\u001b[0m\u001b[0;34m)\u001b[0m\u001b[0;34m:\u001b[0m\u001b[0;34m\u001b[0m\u001b[0;34m\u001b[0m\u001b[0m\n\u001b[1;32m   1480\u001b[0m             \u001b[0mself\u001b[0m\u001b[0;34m.\u001b[0m\u001b[0mresource\u001b[0m \u001b[0;34m=\u001b[0m \u001b[0murl\u001b[0m\u001b[0;34m\u001b[0m\u001b[0;34m\u001b[0m\u001b[0m\n\u001b[0;32m-> 1481\u001b[0;31m             \u001b[0mself\u001b[0m\u001b[0;34m.\u001b[0m\u001b[0membed_code\u001b[0m \u001b[0;34m=\u001b[0m \u001b[0mget_embed\u001b[0m\u001b[0;34m(\u001b[0m\u001b[0murl\u001b[0m\u001b[0;34m,\u001b[0m \u001b[0mwidth\u001b[0m\u001b[0;34m=\u001b[0m\u001b[0mwidth\u001b[0m\u001b[0;34m,\u001b[0m \u001b[0mheight\u001b[0m\u001b[0;34m=\u001b[0m\u001b[0mheight\u001b[0m\u001b[0;34m)\u001b[0m\u001b[0;34m\u001b[0m\u001b[0;34m\u001b[0m\u001b[0m\n\u001b[0m\u001b[1;32m   1482\u001b[0m             \u001b[0msuper\u001b[0m\u001b[0;34m(\u001b[0m\u001b[0mPlotlyDisplay\u001b[0m\u001b[0;34m,\u001b[0m \u001b[0mself\u001b[0m\u001b[0;34m)\u001b[0m\u001b[0;34m.\u001b[0m\u001b[0m__init__\u001b[0m\u001b[0;34m(\u001b[0m\u001b[0mdata\u001b[0m\u001b[0;34m=\u001b[0m\u001b[0mself\u001b[0m\u001b[0;34m.\u001b[0m\u001b[0membed_code\u001b[0m\u001b[0;34m)\u001b[0m\u001b[0;34m\u001b[0m\u001b[0;34m\u001b[0m\u001b[0m\n\u001b[1;32m   1483\u001b[0m \u001b[0;34m\u001b[0m\u001b[0m\n",
            "\u001b[0;32m/usr/local/lib/python3.6/dist-packages/plotly/tools.py\u001b[0m in \u001b[0;36mget_embed\u001b[0;34m(file_owner_or_url, file_id, width, height)\u001b[0m\n\u001b[1;32m    304\u001b[0m                 \u001b[0;34m\"'{1}'.\"\u001b[0m\u001b[0;34m\u001b[0m\u001b[0;34m\u001b[0m\u001b[0m\n\u001b[1;32m    305\u001b[0m                 \u001b[0;34m\"\\nRun help on this function for more information.\"\u001b[0m\u001b[0;34m\u001b[0m\u001b[0;34m\u001b[0m\u001b[0m\n\u001b[0;32m--> 306\u001b[0;31m                 \"\".format(url, plotly_rest_url))\n\u001b[0m\u001b[1;32m    307\u001b[0m         \u001b[0murlsplit\u001b[0m \u001b[0;34m=\u001b[0m \u001b[0msix\u001b[0m\u001b[0;34m.\u001b[0m\u001b[0mmoves\u001b[0m\u001b[0;34m.\u001b[0m\u001b[0murllib\u001b[0m\u001b[0;34m.\u001b[0m\u001b[0mparse\u001b[0m\u001b[0;34m.\u001b[0m\u001b[0murlparse\u001b[0m\u001b[0;34m(\u001b[0m\u001b[0murl\u001b[0m\u001b[0;34m)\u001b[0m\u001b[0;34m\u001b[0m\u001b[0;34m\u001b[0m\u001b[0m\n\u001b[1;32m    308\u001b[0m         \u001b[0mfile_owner\u001b[0m \u001b[0;34m=\u001b[0m \u001b[0murlsplit\u001b[0m\u001b[0;34m.\u001b[0m\u001b[0mpath\u001b[0m\u001b[0;34m.\u001b[0m\u001b[0msplit\u001b[0m\u001b[0;34m(\u001b[0m\u001b[0;34m'/'\u001b[0m\u001b[0;34m)\u001b[0m\u001b[0;34m[\u001b[0m\u001b[0;36m1\u001b[0m\u001b[0;34m]\u001b[0m\u001b[0;34m.\u001b[0m\u001b[0msplit\u001b[0m\u001b[0;34m(\u001b[0m\u001b[0;34m'~'\u001b[0m\u001b[0;34m)\u001b[0m\u001b[0;34m[\u001b[0m\u001b[0;36m1\u001b[0m\u001b[0;34m]\u001b[0m\u001b[0;34m\u001b[0m\u001b[0;34m\u001b[0m\u001b[0m\n",
            "\u001b[0;31mPlotlyError\u001b[0m: Because you didn't supply a 'file_id' in the call, we're assuming you're trying to snag a figure from a url. You supplied the url, '', we expected it to start with 'https://plot.ly'.\nRun help on this function for more information."
          ]
        }
      ]
    },
    {
      "cell_type": "code",
      "metadata": {
        "id": "D4gHhDDcdZNc",
        "colab_type": "code",
        "outputId": "e97727b3-e9a6-4706-db3d-8f63935a463d",
        "colab": {
          "base_uri": "https://localhost:8080/",
          "height": 104
        }
      },
      "source": [
        "import plotly.plotly as py\n",
        "import pandas as pd\n",
        "\n",
        "df = pd.read_csv('https://raw.githubusercontent.com/plotly/datasets/master/2011_us_ag_exports.csv')\n",
        "\n",
        "for col in df.columns:\n",
        "    df[col] = df[col].astype(str)\n",
        "\n",
        "scl = [[0.0, 'rgb(242,240,247)'],[0.2, 'rgb(218,218,235)'],[0.4, 'rgb(188,189,220)'],\\\n",
        "            [0.6, 'rgb(158,154,200)'],[0.8, 'rgb(117,107,177)'],[1.0, 'rgb(84,39,143)']]\n",
        "\n",
        "df['text'] = df['state'] + '&lt;br&gt;' +\\\n",
        "    'Beef '+df['beef']+' Dairy '+df['dairy']+'&lt;br&gt;'+\\\n",
        "    'Fruits '+df['total fruits']+' Veggies ' + df['total veggies']+'&lt;br&gt;'+\\\n",
        "    'Wheat '+df['wheat']+' Corn '+df['corn']\n",
        "\n",
        "data = [ dict(\n",
        "        type='choropleth',\n",
        "        colorscale = scl,\n",
        "        autocolorscale = False,\n",
        "        locations = df['code'],\n",
        "        z = df['total exports'].astype(float),\n",
        "        locationmode = 'USA-states',\n",
        "        text = df['text'],\n",
        "        marker = dict(\n",
        "            line = dict (\n",
        "                color = 'rgb(255,255,255)',\n",
        "                width = 2\n",
        "            )\n",
        "        ),\n",
        "        colorbar = dict(\n",
        "            title = \"Millions USD\"\n",
        "        )\n",
        "    ) ]\n",
        "\n",
        "layout = dict(\n",
        "        title = '2011 US Agriculture Exports by State&lt;br&gt;(Hover for breakdown)',\n",
        "        geo = dict(\n",
        "            scope='usa',\n",
        "            projection=dict( type='albers usa' ),\n",
        "            showlakes = True,\n",
        "            lakecolor = 'rgb(255, 255, 255)',\n",
        "        ),\n",
        "    )\n",
        "\n",
        "fig = dict(data=data, layout=layout)\n",
        "\n",
        "url = py.plot(fig, filename='d3-cloropleth-map')"
      ],
      "execution_count": 48,
      "outputs": [
        {
          "output_type": "stream",
          "text": [
            "Aw, snap! We didn't get a username with your request.\n",
            "\n",
            "Don't have an account? https://plot.ly/api_signup\n",
            "\n",
            "Questions? accounts@plot.ly\n"
          ],
          "name": "stdout"
        }
      ]
    },
    {
      "cell_type": "markdown",
      "metadata": {
        "id": "tbzGyAUkjgIS",
        "colab_type": "text"
      },
      "source": [
        "## Has the price of Insulin Actually Increased?"
      ]
    },
    {
      "cell_type": "markdown",
      "metadata": {
        "id": "1RCFfr6ijgIT",
        "colab_type": "text"
      },
      "source": [
        "## Student's t-test\n",
        "\n",
        "Let $\\mu$ be **the average price of 10 mL, 100 units/mL Insulin in the United States for a given year**\n",
        "\n",
        "$$H_0: \\mu_{2012} = \\mu_{2016}$$\n",
        "$$H_A: \\mu_{2012} < \\mu_{2016}$$"
      ]
    },
    {
      "cell_type": "code",
      "metadata": {
        "id": "lipvxaPbjgIU",
        "colab_type": "code",
        "outputId": "6c36b37c-9652-41cb-aea9-280809ba9a72",
        "colab": {
          "base_uri": "https://localhost:8080/",
          "height": 52
        }
      },
      "source": [
        "print(\"2012: \", insulin_2012['ave_daily_price'].mean())\n",
        "print(\"2016: \", insulin_2016['ave_daily_price'].mean())"
      ],
      "execution_count": 49,
      "outputs": [
        {
          "output_type": "stream",
          "text": [
            "2012:  20.709411764705884\n",
            "2016:  41.24588235294117\n"
          ],
          "name": "stdout"
        }
      ]
    },
    {
      "cell_type": "code",
      "metadata": {
        "id": "Abtr3S6CjgIa",
        "colab_type": "code",
        "outputId": "d0a1af86-933d-432b-8117-8b7ffbf85ea6",
        "colab": {
          "base_uri": "https://localhost:8080/",
          "height": 165
        }
      },
      "source": [
        "ttest_ind(insulin_2012['ave_daily_price'], insulin_2016['ave_daily_price'], nan_policy='omit')"
      ],
      "execution_count": 52,
      "outputs": [
        {
          "output_type": "error",
          "ename": "NameError",
          "evalue": "ignored",
          "traceback": [
            "\u001b[0;31m---------------------------------------------------------------------------\u001b[0m",
            "\u001b[0;31mNameError\u001b[0m                                 Traceback (most recent call last)",
            "\u001b[0;32m<ipython-input-52-8569391f317b>\u001b[0m in \u001b[0;36m<module>\u001b[0;34m()\u001b[0m\n\u001b[0;32m----> 1\u001b[0;31m \u001b[0mttest_ind\u001b[0m\u001b[0;34m(\u001b[0m\u001b[0minsulin_2012\u001b[0m\u001b[0;34m[\u001b[0m\u001b[0;34m'ave_daily_price'\u001b[0m\u001b[0;34m]\u001b[0m\u001b[0;34m,\u001b[0m \u001b[0minsulin_2016\u001b[0m\u001b[0;34m[\u001b[0m\u001b[0;34m'ave_daily_price'\u001b[0m\u001b[0;34m]\u001b[0m\u001b[0;34m,\u001b[0m \u001b[0mnan_policy\u001b[0m\u001b[0;34m=\u001b[0m\u001b[0;34m'omit'\u001b[0m\u001b[0;34m)\u001b[0m\u001b[0;34m\u001b[0m\u001b[0;34m\u001b[0m\u001b[0m\n\u001b[0m",
            "\u001b[0;31mNameError\u001b[0m: name 'ttest_ind' is not defined"
          ]
        }
      ]
    },
    {
      "cell_type": "code",
      "metadata": {
        "id": "3_SwuDA4jgIi",
        "colab_type": "code",
        "colab": {}
      },
      "source": [
        "# With a high DoF (DoF = 50), the t-distribution approaches a Normal distribution\n",
        "# which is a symetric distribution\n",
        "pvalue = 1.120182365562498e-55 / 2\n",
        "print('The p-value for my one-sided test is approximately: ', pvalue)"
      ],
      "execution_count": 0,
      "outputs": []
    },
    {
      "cell_type": "markdown",
      "metadata": {
        "id": "kYAxJg-2jgIo",
        "colab_type": "text"
      },
      "source": [
        "$$p-value = 5.6*10^{-56} << 0.01$$"
      ]
    },
    {
      "cell_type": "markdown",
      "metadata": {
        "id": "yk1hYJUWjgIp",
        "colab_type": "text"
      },
      "source": [
        "Therefore, we REJECT THE NULL HYPOTHESIS that the average US price of Insulin has remained the same from 2012 to 2016. We can say with 99% confidence that the price of insulin in the US has increased significantly from 2012 to 2016."
      ]
    },
    {
      "cell_type": "markdown",
      "metadata": {
        "id": "xRi6mTPpLcmv",
        "colab_type": "text"
      },
      "source": [
        ""
      ]
    },
    {
      "cell_type": "markdown",
      "metadata": {
        "id": "XITP1oUWSCi8",
        "colab_type": "text"
      },
      "source": [
        "## Eli Lilly Data"
      ]
    },
    {
      "cell_type": "code",
      "metadata": {
        "id": "KW8z2RHIQjtc",
        "colab_type": "code",
        "colab": {}
      },
      "source": [
        "# Import data from Eli Lilly press release\n",
        "lilly_years = [2014, 2015, 2016, 2017, 2018]\n",
        "u100_ave_list_price = [391, 480, 539, 588, 594]\n",
        "u100_ave_net_price = [147, 159, 133, 135, 135]"
      ],
      "execution_count": 0,
      "outputs": []
    },
    {
      "cell_type": "code",
      "metadata": {
        "id": "q83iZWbbSp1z",
        "colab_type": "code",
        "colab": {}
      },
      "source": [
        "# Initialize a DataFrame\n",
        "lilly = pd.DataFrame({\n",
        "    \"year\":lilly_years\n",
        "    , \"ave_list_price\":u100_ave_list_price\n",
        "    , \"ave_net_price\":u100_ave_net_price\n",
        "})"
      ],
      "execution_count": 0,
      "outputs": []
    },
    {
      "cell_type": "markdown",
      "metadata": {
        "id": "AsqWfpn1Szrf",
        "colab_type": "text"
      },
      "source": [
        "### Add Unit and Daily Prices"
      ]
    },
    {
      "cell_type": "code",
      "metadata": {
        "id": "7vxGcQuESu01",
        "colab_type": "code",
        "colab": {}
      },
      "source": [
        "# Unit Price\n",
        "lilly['ave_unit_price'] = True\n",
        "lilly['ave_unit_price'] = lilly['ave_list_price'] / 1000\n",
        "\n",
        "# Daily List Price\n",
        "lilly['ave_daily_price'] = True\n",
        "lilly['ave_daily_price'] = lilly['ave_unit_price'] * 60\n",
        "\n",
        "# Daily Net Price\n",
        "lilly['ave_daily_net_price'] = True\n",
        "lilly['ave_daily_net_price'] = (3/50)*lilly['ave_net_price']\n",
        "\n",
        "# Daily Rebate Price\n",
        "lilly['ave_daily_rebate'] = True\n",
        "lilly['ave_daily_rebate'] = lilly['ave_daily_price'] - lilly['ave_daily_net_price']"
      ],
      "execution_count": 0,
      "outputs": []
    },
    {
      "cell_type": "code",
      "metadata": {
        "id": "GTK9yN0LUJdS",
        "colab_type": "code",
        "colab": {}
      },
      "source": [
        "lilly.head()"
      ],
      "execution_count": 0,
      "outputs": []
    },
    {
      "cell_type": "markdown",
      "metadata": {
        "id": "gxX3W0LfUqrT",
        "colab_type": "text"
      },
      "source": [
        "### Lineplot"
      ]
    },
    {
      "cell_type": "code",
      "metadata": {
        "id": "P-ZkH_TwUKsM",
        "colab_type": "code",
        "colab": {}
      },
      "source": [
        "# Initialize plot\n",
        "plt.style.use('seaborn-darkgrid');\n",
        "fig = plt.figure(figsize=[22, 17], dpi=300);\n",
        "\n",
        "ax = lilly.plot.line('year', ['ave_daily_price', 'ave_daily_rebate', 'ave_daily_net_price']);\n",
        "\n",
        "# Title\n",
        "ax.text(x=2013.8, y=55, s=\"Insulin Price Rises while Producers Make Less Profit\", fontsize=14, fontweight='bold');\n",
        "\n",
        "# Subtitle\n",
        "ax.text(x=2013.8, y=52, s=\"Where is the money going?\", fontsize=12);\n",
        "\n",
        "# Set x-axis label\n",
        "plt.xlabel(x=.5, y=-.8, xlabel=\"Year\", fontsize=12, fontweight=\"bold\", labelpad=15);\n",
        "plt.xticks(lilly['year']);\n",
        "\n",
        "plt.xlim(2014, 2018);\n",
        "\n",
        "# Set y-axis label\n",
        "plt.ylabel(x=1, y=.5, ylabel=\"Daily Price of Insulin\", fontsize=12, fontweight=\"bold\", labelpad=15);\n",
        "plt.yticks([10, 20, 30, 40], ['$10', '$20', '$30', '$40']);\n",
        "\n",
        "plt.ylim(0, 50);\n",
        "\n",
        "# Legend\n",
        "ax.legend(['List Price', 'Rebate', 'Net Price']);"
      ],
      "execution_count": 0,
      "outputs": []
    },
    {
      "cell_type": "markdown",
      "metadata": {
        "id": "Qs7f7RPQ7Yui",
        "colab_type": "text"
      },
      "source": [
        "## Who does this affect?"
      ]
    },
    {
      "cell_type": "markdown",
      "metadata": {
        "id": "91Rw-nTBnBT-",
        "colab_type": "text"
      },
      "source": [
        "## Closing"
      ]
    },
    {
      "cell_type": "code",
      "metadata": {
        "id": "bQYHT_IKnMXZ",
        "colab_type": "code",
        "colab": {}
      },
      "source": [
        "len('Insulin prices doubled from 2012 to 2016 while insulin producers make less profit. The rise of Pharmacy Benefit Managers helps those with insurance and hurts those without.')"
      ],
      "execution_count": 0,
      "outputs": []
    },
    {
      "cell_type": "markdown",
      "metadata": {
        "id": "XB70ibeJeUmK",
        "colab_type": "text"
      },
      "source": [
        "### Short Summary < 280 Characters\n",
        "\n",
        "Insulin prices doubled from 2012 to 2016 while insulin producers make less profit. The rise of Pharmacy Benefit Managers helps those with insurance and hurts those without."
      ]
    },
    {
      "cell_type": "code",
      "metadata": {
        "id": "K1LqLwbcfmYB",
        "colab_type": "code",
        "colab": {}
      },
      "source": [
        ""
      ],
      "execution_count": 0,
      "outputs": []
    }
  ]
}