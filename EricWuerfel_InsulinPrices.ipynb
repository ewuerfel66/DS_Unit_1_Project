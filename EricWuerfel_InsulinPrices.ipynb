{
  "nbformat": 4,
  "nbformat_minor": 0,
  "metadata": {
    "colab": {
      "name": "EricWuerfel_InsulinPrices.ipynb",
      "version": "0.3.2",
      "provenance": [],
      "collapsed_sections": [],
      "toc_visible": true,
      "include_colab_link": true
    },
    "kernelspec": {
      "name": "python3",
      "display_name": "Python 3"
    }
  },
  "cells": [
    {
      "cell_type": "markdown",
      "metadata": {
        "id": "view-in-github",
        "colab_type": "text"
      },
      "source": [
        "<a href=\"https://colab.research.google.com/github/ewuerfel66/DS_Unit_1_Project/blob/master/EricWuerfel_InsulinPrices.ipynb\" target=\"_parent\"><img src=\"https://colab.research.google.com/assets/colab-badge.svg\" alt=\"Open In Colab\"/></a>"
      ]
    },
    {
      "cell_type": "markdown",
      "metadata": {
        "id": "BdaEvCQxKp4g",
        "colab_type": "text"
      },
      "source": [
        "# Insulin Prices in the US"
      ]
    },
    {
      "cell_type": "markdown",
      "metadata": {
        "id": "klN01gLUVrjk",
        "colab_type": "text"
      },
      "source": [
        "What could cause suburban moms to make [cross-border drug runs](https://www.washingtonpost.com/world/the_americas/as-price-of-insulin-soars-americans-caravan-to-canada-for-lifesaving-medicine/2019/06/14/0a272fb6-8217-11e9-9a67-a687ca99fb3d_story.html?noredirect=on&utm_term=.4ae2ae43c6f3)? Or law-abiding citizens to [share or sell their prescriptions drugs](https://www.wsj.com/video/series/moving-upstream/high-insulin-prices-drive-diabetics-to-take-extreme-measures/1AB7653D-D0F8-4441-9218-5668D1BC62A7)?\n",
        "\n",
        "**Insulin prices in the US have doubled since 2012.** Have insulin producers doubled the quality of their insulin? Or perhaps made it twice as convenient to administer than it was in 2012?\n",
        "\n",
        "The GIF (below?) shows how the distribution of average insulin price by state changes over time. At the end, it's clear that the price of insulin has changed significantly. If you don't believe your eyes, a T-Test comparing the average prices of insulin in 2012 and 2016 tells us there is less than a *one in 17 million trillion trillion trillion trillion* chance that we're mistaken. **Something has changed.**\n",
        "\n",
        "It should be noted that insulin use increased only slightly over this period (from 60 units/day to 62), so increased demand doesn't account for the price increase.\n",
        "\n",
        "This is one of many places in our Health Care market that we see overt market failure. Drastic market failures like this are one of many reasons our Health Care costs are so high, and our satisfaction with Health Care is so low."
      ]
    },
    {
      "cell_type": "markdown",
      "metadata": {
        "id": "r63ppGx7KwHa",
        "colab_type": "text"
      },
      "source": [
        "## Imports"
      ]
    },
    {
      "cell_type": "code",
      "metadata": {
        "id": "utQMglTqH-Nx",
        "colab_type": "code",
        "colab": {}
      },
      "source": [
        "import pandas as pd\n",
        "import matplotlib.pyplot as plt\n",
        "import seaborn as sns\n",
        "import statistics"
      ],
      "execution_count": 0,
      "outputs": []
    },
    {
      "cell_type": "markdown",
      "metadata": {
        "id": "2Dpy3fbDK6RV",
        "colab_type": "text"
      },
      "source": [
        "## HCCI Data\n",
        "\n",
        "**Look at price per unit**\n",
        "* 60 units per day per person\n",
        "* These measurements are in 10 mL 100 units/mL\n",
        "\n",
        "[Insulin - Public Data](https://www.healthcostinstitute.org/research/research-resources)\n",
        "\n",
        "Report notes little change in usage, so spending is not increasing because we're using more."
      ]
    },
    {
      "cell_type": "code",
      "metadata": {
        "id": "NX-Y_uAbK4KH",
        "colab_type": "code",
        "colab": {}
      },
      "source": [
        "# Import the data and rename columns\n",
        "df = pd.read_csv('https://www.healthcostinstitute.org/images/pdfs/171117_State_Insulin_Average_Point-of-Sale_Prices.csv')\n",
        "df = df.rename(columns={'Average_Point-of-Sale_Price_per_Script':'ave_price'})"
      ],
      "execution_count": 0,
      "outputs": []
    },
    {
      "cell_type": "markdown",
      "metadata": {
        "id": "0esR-Ko5NuWy",
        "colab_type": "text"
      },
      "source": [
        "### Add Unit and Daily Price Features"
      ]
    },
    {
      "cell_type": "code",
      "metadata": {
        "id": "Fq_pTlogN7kA",
        "colab_type": "code",
        "colab": {}
      },
      "source": [
        "# Unit Prices - prices are for 10 mL, 100 units/mL\n",
        "df['ave_unit_price'] = True\n",
        "df['ave_unit_price'] = df['ave_price'] / 1000\n",
        "\n",
        "# Diabetes patients avergae about 60 units per day\n",
        "df['ave_daily_price'] = True\n",
        "df['ave_daily_price'] = df['ave_unit_price'] * 60"
      ],
      "execution_count": 0,
      "outputs": []
    },
    {
      "cell_type": "code",
      "metadata": {
        "id": "bIGwv1cbLN0z",
        "colab_type": "code",
        "outputId": "2e99a73a-b70a-4d26-e36c-18ac12153da5",
        "colab": {
          "base_uri": "https://localhost:8080/",
          "height": 206
        }
      },
      "source": [
        "df.head()"
      ],
      "execution_count": 0,
      "outputs": [
        {
          "output_type": "execute_result",
          "data": {
            "text/html": [
              "<div>\n",
              "<style scoped>\n",
              "    .dataframe tbody tr th:only-of-type {\n",
              "        vertical-align: middle;\n",
              "    }\n",
              "\n",
              "    .dataframe tbody tr th {\n",
              "        vertical-align: top;\n",
              "    }\n",
              "\n",
              "    .dataframe thead th {\n",
              "        text-align: right;\n",
              "    }\n",
              "</style>\n",
              "<table border=\"1\" class=\"dataframe\">\n",
              "  <thead>\n",
              "    <tr style=\"text-align: right;\">\n",
              "      <th></th>\n",
              "      <th>year</th>\n",
              "      <th>state</th>\n",
              "      <th>ave_price</th>\n",
              "      <th>ave_unit_price</th>\n",
              "      <th>ave_daily_price</th>\n",
              "    </tr>\n",
              "  </thead>\n",
              "  <tbody>\n",
              "    <tr>\n",
              "      <th>0</th>\n",
              "      <td>2012</td>\n",
              "      <td>AK</td>\n",
              "      <td>320</td>\n",
              "      <td>0.320</td>\n",
              "      <td>19.20</td>\n",
              "    </tr>\n",
              "    <tr>\n",
              "      <th>1</th>\n",
              "      <td>2012</td>\n",
              "      <td>AL</td>\n",
              "      <td>353</td>\n",
              "      <td>0.353</td>\n",
              "      <td>21.18</td>\n",
              "    </tr>\n",
              "    <tr>\n",
              "      <th>2</th>\n",
              "      <td>2012</td>\n",
              "      <td>AR</td>\n",
              "      <td>322</td>\n",
              "      <td>0.322</td>\n",
              "      <td>19.32</td>\n",
              "    </tr>\n",
              "    <tr>\n",
              "      <th>3</th>\n",
              "      <td>2012</td>\n",
              "      <td>AZ</td>\n",
              "      <td>312</td>\n",
              "      <td>0.312</td>\n",
              "      <td>18.72</td>\n",
              "    </tr>\n",
              "    <tr>\n",
              "      <th>4</th>\n",
              "      <td>2012</td>\n",
              "      <td>CA</td>\n",
              "      <td>302</td>\n",
              "      <td>0.302</td>\n",
              "      <td>18.12</td>\n",
              "    </tr>\n",
              "  </tbody>\n",
              "</table>\n",
              "</div>"
            ],
            "text/plain": [
              "   year state  ave_price  ave_unit_price  ave_daily_price\n",
              "0  2012    AK        320           0.320            19.20\n",
              "1  2012    AL        353           0.353            21.18\n",
              "2  2012    AR        322           0.322            19.32\n",
              "3  2012    AZ        312           0.312            18.72\n",
              "4  2012    CA        302           0.302            18.12"
            ]
          },
          "metadata": {
            "tags": []
          },
          "execution_count": 33
        }
      ]
    },
    {
      "cell_type": "markdown",
      "metadata": {
        "id": "_kfvrhukOigX",
        "colab_type": "text"
      },
      "source": [
        "### Split the Data into Years"
      ]
    },
    {
      "cell_type": "code",
      "metadata": {
        "id": "cVY5uKH7LbBP",
        "colab_type": "code",
        "colab": {}
      },
      "source": [
        "insulin_2012 = df[df['year'] == 2012];\n",
        "insulin_2013 = df[df['year'] == 2013];\n",
        "insulin_2014 = df[df['year'] == 2014];\n",
        "insulin_2015 = df[df['year'] == 2015];\n",
        "insulin_2016 = df[df['year'] == 2016];"
      ],
      "execution_count": 0,
      "outputs": []
    },
    {
      "cell_type": "code",
      "metadata": {
        "id": "-SQLcgdjOsD0",
        "colab_type": "code",
        "outputId": "2b8b04e2-ec28-4c97-d313-6ec45711c0c7",
        "colab": {
          "base_uri": "https://localhost:8080/",
          "height": 206
        }
      },
      "source": [
        "insulin_2016.head()"
      ],
      "execution_count": 0,
      "outputs": [
        {
          "output_type": "execute_result",
          "data": {
            "text/html": [
              "<div>\n",
              "<style scoped>\n",
              "    .dataframe tbody tr th:only-of-type {\n",
              "        vertical-align: middle;\n",
              "    }\n",
              "\n",
              "    .dataframe tbody tr th {\n",
              "        vertical-align: top;\n",
              "    }\n",
              "\n",
              "    .dataframe thead th {\n",
              "        text-align: right;\n",
              "    }\n",
              "</style>\n",
              "<table border=\"1\" class=\"dataframe\">\n",
              "  <thead>\n",
              "    <tr style=\"text-align: right;\">\n",
              "      <th></th>\n",
              "      <th>year</th>\n",
              "      <th>state</th>\n",
              "      <th>ave_price</th>\n",
              "      <th>ave_unit_price</th>\n",
              "      <th>ave_daily_price</th>\n",
              "    </tr>\n",
              "  </thead>\n",
              "  <tbody>\n",
              "    <tr>\n",
              "      <th>204</th>\n",
              "      <td>2016</td>\n",
              "      <td>AK</td>\n",
              "      <td>809</td>\n",
              "      <td>0.809</td>\n",
              "      <td>48.54</td>\n",
              "    </tr>\n",
              "    <tr>\n",
              "      <th>205</th>\n",
              "      <td>2016</td>\n",
              "      <td>AL</td>\n",
              "      <td>671</td>\n",
              "      <td>0.671</td>\n",
              "      <td>40.26</td>\n",
              "    </tr>\n",
              "    <tr>\n",
              "      <th>206</th>\n",
              "      <td>2016</td>\n",
              "      <td>AR</td>\n",
              "      <td>660</td>\n",
              "      <td>0.660</td>\n",
              "      <td>39.60</td>\n",
              "    </tr>\n",
              "    <tr>\n",
              "      <th>207</th>\n",
              "      <td>2016</td>\n",
              "      <td>AZ</td>\n",
              "      <td>659</td>\n",
              "      <td>0.659</td>\n",
              "      <td>39.54</td>\n",
              "    </tr>\n",
              "    <tr>\n",
              "      <th>208</th>\n",
              "      <td>2016</td>\n",
              "      <td>CA</td>\n",
              "      <td>407</td>\n",
              "      <td>0.407</td>\n",
              "      <td>24.42</td>\n",
              "    </tr>\n",
              "  </tbody>\n",
              "</table>\n",
              "</div>"
            ],
            "text/plain": [
              "     year state  ave_price  ave_unit_price  ave_daily_price\n",
              "204  2016    AK        809           0.809            48.54\n",
              "205  2016    AL        671           0.671            40.26\n",
              "206  2016    AR        660           0.660            39.60\n",
              "207  2016    AZ        659           0.659            39.54\n",
              "208  2016    CA        407           0.407            24.42"
            ]
          },
          "metadata": {
            "tags": []
          },
          "execution_count": 35
        }
      ]
    },
    {
      "cell_type": "markdown",
      "metadata": {
        "id": "8TQqjp7UPNDK",
        "colab_type": "text"
      },
      "source": [
        "### Histograms by Year"
      ]
    },
    {
      "cell_type": "code",
      "metadata": {
        "id": "1dZjw66FOuRl",
        "colab_type": "code",
        "colab": {}
      },
      "source": [
        "# Set cutoffs for bins\n",
        "cuts = [15, 20, 25, 30, 35, 40, 45, 50, 55, 1000]\n",
        "\n",
        "# X Ticks\n",
        "xticks = list(range(15, 56, 5))\n",
        "xnames = ['$15', '$20', '$25', '$30', '$35', '$40', '$45', '$50', '$55']\n",
        "\n",
        "# Y Ticks\n",
        "yticks = list(range(5, 41, 5))"
      ],
      "execution_count": 0,
      "outputs": []
    },
    {
      "cell_type": "code",
      "metadata": {
        "id": "6q3yB6MtPf2M",
        "colab_type": "code",
        "outputId": "39dc49c1-8940-4a76-f351-71ac69a0979c",
        "colab": {
          "base_uri": "https://localhost:8080/",
          "height": 440
        }
      },
      "source": [
        "sns.set()\n",
        "\n",
        "fig = plt.figure(figsize = (8, 6))\n",
        "\n",
        "ax = sns.distplot(insulin_2012['ave_daily_price'], kde=False, bins=cuts, color='#183856');\n",
        "\n",
        "# Title\n",
        "ax.text(x=33, y=43, s=\"2012\", fontsize=14, fontweight='bold');\n",
        "\n",
        "# Set x-axis label\n",
        "plt.xlabel(x=.5, y=-1, xlabel=\"Average Daily Cost of Insulin\", fontsize=12, fontweight=\"bold\", labelpad=15)\n",
        "plt.xticks(xticks, xnames)\n",
        "\n",
        "# Set y-axis label\n",
        "plt.ylabel(x=1, y=.5, ylabel=\"Amount of States (and DC)\", fontsize=12, fontweight=\"bold\", labelpad=15)\n",
        "plt.yticks(yticks)\n",
        "\n",
        "sns.axes_style(\"darkgrid\")\n",
        "\n",
        "plt.xlim(15, 55);\n",
        "plt.ylim(0, 40);\n",
        "\n",
        "#plt.savefig('insulin2012', dpi=300)"
      ],
      "execution_count": 0,
      "outputs": [
        {
          "output_type": "display_data",
          "data": {
            "image/png": "[encoded data removed]",
            "text/plain": [
              "<Figure size 576x432 with 1 Axes>"
            ]
          },
          "metadata": {
            "tags": []
          }
        }
      ]
    },
    {
      "cell_type": "code",
      "metadata": {
        "id": "sYUuBe-MPixd",
        "colab_type": "code",
        "outputId": "434e0dbb-4efa-4485-db84-36731d8aa6eb",
        "colab": {
          "base_uri": "https://localhost:8080/",
          "height": 440
        }
      },
      "source": [
        "sns.set()\n",
        "\n",
        "fig = plt.figure(figsize = (8, 6))\n",
        "\n",
        "ax = sns.distplot(insulin_2013['ave_daily_price'], kde=False, bins=cuts, color='#183856');\n",
        "\n",
        "# Title\n",
        "ax.text(x=33, y=43, s=\"2013\", fontsize=14, fontweight='bold');\n",
        "\n",
        "# Set x-axis label\n",
        "plt.xlabel(x=.5, y=-1, xlabel=\"Average Daily Cost of Insulin\", fontsize=12, fontweight=\"bold\", labelpad=15)\n",
        "plt.xticks(xticks, xnames)\n",
        "\n",
        "# Set y-axis label\n",
        "plt.ylabel(x=1, y=.5, ylabel=\"Amount of States (and DC)\", fontsize=12, fontweight=\"bold\", labelpad=15)\n",
        "plt.yticks(yticks)\n",
        "\n",
        "sns.axes_style(\"darkgrid\")\n",
        "\n",
        "plt.xlim(15, 55);\n",
        "plt.ylim(0, 40);\n",
        "\n",
        "#plt.savefig('insulin2013', dpi=300)"
      ],
      "execution_count": 0,
      "outputs": [
        {
          "output_type": "display_data",
          "data": {
            "image/png": "[encoded data removed]",
            "text/plain": [
              "<Figure size 576x432 with 1 Axes>"
            ]
          },
          "metadata": {
            "tags": []
          }
        }
      ]
    },
    {
      "cell_type": "code",
      "metadata": {
        "id": "__4boDZPP0bF",
        "colab_type": "code",
        "outputId": "d3c2f24a-6268-4751-bb5b-17f36646411e",
        "colab": {
          "base_uri": "https://localhost:8080/",
          "height": 440
        }
      },
      "source": [
        "sns.set()\n",
        "\n",
        "fig = plt.figure(figsize = (8, 6))\n",
        "\n",
        "ax = sns.distplot(insulin_2014['ave_daily_price'], kde=False, bins=cuts, color='#183856');\n",
        "\n",
        "# Title\n",
        "ax.text(x=33, y=43, s=\"2014\", fontsize=14, fontweight='bold');\n",
        "\n",
        "# Set x-axis label\n",
        "plt.xlabel(x=.5, y=-1, xlabel=\"Average Daily Cost of Insulin\", fontsize=12, fontweight=\"bold\", labelpad=15)\n",
        "plt.xticks(xticks, xnames)\n",
        "\n",
        "# Set y-axis label\n",
        "plt.ylabel(x=1, y=.5, ylabel=\"Amount of States (and DC)\", fontsize=12, fontweight=\"bold\", labelpad=15)\n",
        "plt.yticks(yticks)\n",
        "\n",
        "sns.axes_style(\"darkgrid\")\n",
        "\n",
        "plt.xlim(15, 55);\n",
        "plt.ylim(0, 40);\n",
        "\n",
        "#plt.savefig('insulin2014', dpi=300)"
      ],
      "execution_count": 0,
      "outputs": [
        {
          "output_type": "display_data",
          "data": {
            "image/png": "[encoded data removed]",
            "text/plain": [
              "<Figure size 576x432 with 1 Axes>"
            ]
          },
          "metadata": {
            "tags": []
          }
        }
      ]
    },
    {
      "cell_type": "code",
      "metadata": {
        "id": "iTgHmRbrQD-d",
        "colab_type": "code",
        "outputId": "ebf6249d-4165-4b7f-b351-220272153714",
        "colab": {
          "base_uri": "https://localhost:8080/",
          "height": 440
        }
      },
      "source": [
        "sns.set()\n",
        "\n",
        "fig = plt.figure(figsize = (8, 6))\n",
        "\n",
        "ax = sns.distplot(insulin_2015['ave_daily_price'], kde=False, bins=cuts, color='#183856');\n",
        "\n",
        "# Title\n",
        "ax.text(x=33, y=43, s=\"2015\", fontsize=14, fontweight='bold');\n",
        "\n",
        "# Set x-axis label\n",
        "plt.xlabel(x=.5, y=-1, xlabel=\"Average Daily Cost of Insulin\", fontsize=12, fontweight=\"bold\", labelpad=15)\n",
        "plt.xticks(xticks, xnames)\n",
        "\n",
        "# Set y-axis label\n",
        "plt.ylabel(x=1, y=.5, ylabel=\"Amount of States (and DC)\", fontsize=12, fontweight=\"bold\", labelpad=15)\n",
        "plt.yticks(yticks)\n",
        "\n",
        "sns.axes_style(\"darkgrid\")\n",
        "\n",
        "plt.xlim(15, 55);\n",
        "plt.ylim(0, 40);\n",
        "\n",
        "#plt.savefig('insulin2015', dpi=300)"
      ],
      "execution_count": 0,
      "outputs": [
        {
          "output_type": "display_data",
          "data": {
            "image/png": "[encoded data removed]",
            "text/plain": [
              "<Figure size 576x432 with 1 Axes>"
            ]
          },
          "metadata": {
            "tags": []
          }
        }
      ]
    },
    {
      "cell_type": "code",
      "metadata": {
        "id": "me06FNthQJDM",
        "colab_type": "code",
        "outputId": "e417cf2a-81ec-4b29-a666-92dacccd7d18",
        "colab": {
          "base_uri": "https://localhost:8080/",
          "height": 440
        }
      },
      "source": [
        "sns.set()\n",
        "\n",
        "fig = plt.figure(figsize = (8, 6))\n",
        "\n",
        "ax = sns.distplot(insulin_2016['ave_daily_price'], kde=False, bins=cuts, color='#183856');\n",
        "\n",
        "# Title\n",
        "ax.text(x=33, y=43, s=\"2016\", fontsize=14, fontweight='bold');\n",
        "\n",
        "# Set x-axis label\n",
        "plt.xlabel(x=.5, y=-1, xlabel=\"Average Daily Cost of Insulin\", fontsize=12, fontweight=\"bold\", labelpad=15)\n",
        "plt.xticks(xticks, xnames)\n",
        "\n",
        "# Set y-axis label\n",
        "plt.ylabel(x=1, y=.5, ylabel=\"Amount of States (and DC)\", fontsize=12, fontweight=\"bold\", labelpad=15)\n",
        "plt.yticks(yticks)\n",
        "\n",
        "sns.axes_style(\"darkgrid\")\n",
        "\n",
        "plt.xlim(15, 55);\n",
        "plt.ylim(0, 40);\n",
        "\n",
        "#plt.savefig('insulin2016', dpi=300)"
      ],
      "execution_count": 0,
      "outputs": [
        {
          "output_type": "display_data",
          "data": {
            "image/png": "[encoded data removed]",
            "text/plain": [
              "<Figure size 576x432 with 1 Axes>"
            ]
          },
          "metadata": {
            "tags": []
          }
        }
      ]
    },
    {
      "cell_type": "code",
      "metadata": {
        "id": "tUwtuzgvQO4u",
        "colab_type": "code",
        "outputId": "1fd3a803-3dd6-4cfd-cd3c-c0a8a6bbc13a",
        "colab": {
          "base_uri": "https://localhost:8080/",
          "height": 440
        }
      },
      "source": [
        "sns.set()\n",
        "\n",
        "fig = plt.figure(figsize = (8, 6))\n",
        "\n",
        "ax = sns.distplot(insulin_2012['ave_daily_price'], label='2012', kde=False, bins=cuts, color='#183856');\n",
        "ax = sns.distplot(insulin_2016['ave_daily_price'], label='2016', kde=False, bins=cuts, color='#CC6600');\n",
        "\n",
        "# Title & Subtitle\n",
        "ax.text(x=21, y=43, s=\"Insulin Price Rises, 2012-2016\", fontsize=14, fontweight='bold');\n",
        "# ax.text(x=15, y=41, s=\"Where is the money going?\", fontsize=12);\n",
        "\n",
        "# Set x-axis label\n",
        "plt.xlabel(x=.5, y=-1, xlabel=\"Average Daily Cost of Insulin\", fontsize=12, fontweight=\"bold\", labelpad=15)\n",
        "plt.xticks(xticks, xnames)\n",
        "\n",
        "# Set y-axis label\n",
        "plt.ylabel(x=1, y=.5, ylabel=\"Amount of States (and DC)\", fontsize=12, fontweight=\"bold\", labelpad=15)\n",
        "plt.yticks(yticks)\n",
        "\n",
        "# Add the legend\n",
        "plt.legend(['2012', '2016'])\n",
        "\n",
        "sns.axes_style(\"darkgrid\")\n",
        "\n",
        "# Set domain and range\n",
        "plt.xlim(15, 55);\n",
        "plt.ylim(0, 40);\n",
        "\n",
        "#plt.savefig('insulin_change', dpi=300)"
      ],
      "execution_count": 0,
      "outputs": [
        {
          "output_type": "display_data",
          "data": {
            "image/png": "[encoded data removed]",
            "text/plain": [
              "<Figure size 576x432 with 1 Axes>"
            ]
          },
          "metadata": {
            "tags": []
          }
        }
      ]
    },
    {
      "cell_type": "markdown",
      "metadata": {
        "id": "km96val8U2hO",
        "colab_type": "text"
      },
      "source": [
        "These histograms constitute the frames of the GIF used in my post."
      ]
    },
    {
      "cell_type": "markdown",
      "metadata": {
        "id": "kyBcLppvQztC",
        "colab_type": "text"
      },
      "source": [
        "### **Heat Maps**\n",
        "\n",
        "The two heat maps of the US show average daily insulin prices by state for 2012 and 2016. Notice how drastically the range of average daily price changes from 2012 to 2016."
      ]
    },
    {
      "cell_type": "code",
      "metadata": {
        "id": "KhYxbvoVqENo",
        "colab_type": "code",
        "colab": {}
      },
      "source": [
        "# import plotly \n",
        "plotly.tools.set_credentials_file(username='ewuerfel66', api_key='Qd89hun1PK0Lcn1h8DNJ')"
      ],
      "execution_count": 0,
      "outputs": []
    },
    {
      "cell_type": "code",
      "metadata": {
        "id": "MlWmSr_Az-9d",
        "colab_type": "code",
        "outputId": "7fd1d679-44bb-433e-dd7e-2c519bdf8f90",
        "colab": {
          "base_uri": "https://localhost:8080/",
          "height": 74
        }
      },
      "source": [
        "import plotly\n",
        "import plotly.plotly as py\n",
        "import plotly.graph_objs as go\n",
        "#import plotly.offline as py\n",
        "plotly.tools.set_credentials_file(username='ewuerfel66', api_key='Qd89hun1PK0Lcn1h8DNJ')\n",
        "\n",
        "scl = [\n",
        "    [0.0, 'rgb(212,234,255)'],\n",
        "    [0.2, 'rgb(162,209,252)'],\n",
        "    [0.4, 'rgb(95,142,186)'],\n",
        "    [0.6, 'rgb(44,83,120)'],\n",
        "    [0.8, 'rgb(24,56,86)'],\n",
        "    [1.0, 'rgb(12,32,51)']\n",
        "]\n",
        "data = [go.Choropleth(\n",
        "    colorscale = scl,\n",
        "    locations = insulin_2012['state'],\n",
        "    z = insulin_2012['ave_daily_price'].round(decimals=2),\n",
        "    locationmode = 'USA-states',\n",
        "    text = 'USD per day',\n",
        "    marker = go.choropleth.Marker(\n",
        "        line = go.choropleth.marker.Line(\n",
        "            color = 'rgb(255,255,255)',\n",
        "            width = 2\n",
        "        )),\n",
        "    colorbar = go.choropleth.ColorBar(\n",
        "        title = \"USD per day\",\n",
        "        )\n",
        ")]\n",
        "\n",
        "layout = go.Layout(\n",
        "    title = go.layout.Title(\n",
        "        text = '2012 Daily Insulin Prices<br>(Hover for price)'\n",
        "    ),\n",
        "    geo = go.layout.Geo(\n",
        "        scope = 'usa',\n",
        "        projection = go.layout.geo.Projection(type = 'albers usa'),\n",
        "        showlakes = True,\n",
        "        lakecolor = 'rgb(255, 255, 255)'),\n",
        ")\n",
        "\n",
        "fig = go.Figure(data = data, layout = layout)\n",
        "py.plot(fig, filename='insulin_2012.html')"
      ],
      "execution_count": 0,
      "outputs": [
        {
          "output_type": "stream",
          "text": [
            "High five! You successfully sent some data to your account on plotly. View your plot in your browser at https://plot.ly/~ewuerfel66/0 or inside your plot.ly account where it is named 'insulin_2012.html'\n"
          ],
          "name": "stdout"
        },
        {
          "output_type": "execute_result",
          "data": {
            "text/plain": [
              "'https://plot.ly/~ewuerfel66/0'"
            ]
          },
          "metadata": {
            "tags": []
          },
          "execution_count": 40
        }
      ]
    },
    {
      "cell_type": "code",
      "metadata": {
        "id": "lxKJvS2Sa-eF",
        "colab_type": "code",
        "outputId": "0c4f9f6a-baaa-4106-a125-1a5f747438ae",
        "colab": {
          "base_uri": "https://localhost:8080/",
          "height": 36
        }
      },
      "source": [
        "scl = [\n",
        "    [0.0, 'rgb(212,234,255)'],\n",
        "    [0.2, 'rgb(162,209,252)'],\n",
        "    [0.4, 'rgb(95,142,186)'],\n",
        "    [0.6, 'rgb(44,83,120)'],\n",
        "    [0.8, 'rgb(24,56,86)'],\n",
        "    [1.0, 'rgb(12,32,51)']\n",
        "]\n",
        "data = [go.Choropleth(\n",
        "    colorscale = scl,\n",
        "    locations = insulin_2016['state'],\n",
        "    z = insulin_2016['ave_daily_price'].round(decimals=2),\n",
        "    locationmode = 'USA-states',\n",
        "    text = 'USD per day',\n",
        "    marker = go.choropleth.Marker(\n",
        "        line = go.choropleth.marker.Line(\n",
        "            color = 'rgb(255,255,255)',\n",
        "            width = 2\n",
        "        )),\n",
        "    colorbar = go.choropleth.ColorBar(\n",
        "        title = \"USD per day\",\n",
        "        )\n",
        ")]\n",
        "\n",
        "layout = go.Layout(\n",
        "    title = go.layout.Title(\n",
        "        text = '2016 Daily Insulin Prices<br>(Hover for price)'\n",
        "    ),\n",
        "    geo = go.layout.Geo(\n",
        "        scope = 'usa',\n",
        "        projection = go.layout.geo.Projection(type = 'albers usa'),\n",
        "        showlakes = True,\n",
        "        lakecolor = 'rgb(255, 255, 255)'),\n",
        ")\n",
        "\n",
        "fig = go.Figure(data = data, layout = layout)\n",
        "py.plot(fig, filename='insulin_2016.html')"
      ],
      "execution_count": 0,
      "outputs": [
        {
          "output_type": "execute_result",
          "data": {
            "text/plain": [
              "'https://plot.ly/~ewuerfel66/2'"
            ]
          },
          "metadata": {
            "tags": []
          },
          "execution_count": 41
        }
      ]
    },
    {
      "cell_type": "markdown",
      "metadata": {
        "id": "tbzGyAUkjgIS",
        "colab_type": "text"
      },
      "source": [
        "### Has the price of Insulin Actually Increased?\n",
        "\n",
        "#### Student's t-test\n",
        "\n",
        "Let $\\mu$ be **the average daily price of 10 mL, 100 units/mL Insulin in the United States for a given year** assuming the patient takes **60 units of insulin per day**.\n",
        "\n",
        "$$H_0: \\mu_{2012} = \\mu_{2016}$$\n",
        "$$H_A: \\mu_{2012} < \\mu_{2016}$$"
      ]
    },
    {
      "cell_type": "code",
      "metadata": {
        "id": "lipvxaPbjgIU",
        "colab_type": "code",
        "outputId": "9ebc1682-8908-49b4-f1a6-abc5daaae7d2",
        "colab": {
          "base_uri": "https://localhost:8080/",
          "height": 52
        }
      },
      "source": [
        "print(\"2012: \", insulin_2012['ave_daily_price'].mean())\n",
        "print(\"2016: \", insulin_2016['ave_daily_price'].mean())"
      ],
      "execution_count": 0,
      "outputs": [
        {
          "output_type": "stream",
          "text": [
            "2012:  20.709411764705884\n",
            "2016:  41.24588235294117\n"
          ],
          "name": "stdout"
        }
      ]
    },
    {
      "cell_type": "code",
      "metadata": {
        "id": "Abtr3S6CjgIa",
        "colab_type": "code",
        "outputId": "4ed5667b-11f5-445c-c9b0-f7290887cb6f",
        "colab": {
          "base_uri": "https://localhost:8080/",
          "height": 185
        }
      },
      "source": [
        "ttest_ind(insulin_2012['ave_daily_price'], insulin_2016['ave_daily_price'], nan_policy='omit')"
      ],
      "execution_count": 0,
      "outputs": [
        {
          "output_type": "error",
          "ename": "NameError",
          "evalue": "ignored",
          "traceback": [
            "\u001b[0;31m---------------------------------------------------------------------------\u001b[0m",
            "\u001b[0;31mNameError\u001b[0m                                 Traceback (most recent call last)",
            "\u001b[0;32m<ipython-input-28-8569391f317b>\u001b[0m in \u001b[0;36m<module>\u001b[0;34m()\u001b[0m\n\u001b[0;32m----> 1\u001b[0;31m \u001b[0mttest_ind\u001b[0m\u001b[0;34m(\u001b[0m\u001b[0minsulin_2012\u001b[0m\u001b[0;34m[\u001b[0m\u001b[0;34m'ave_daily_price'\u001b[0m\u001b[0;34m]\u001b[0m\u001b[0;34m,\u001b[0m \u001b[0minsulin_2016\u001b[0m\u001b[0;34m[\u001b[0m\u001b[0;34m'ave_daily_price'\u001b[0m\u001b[0;34m]\u001b[0m\u001b[0;34m,\u001b[0m \u001b[0mnan_policy\u001b[0m\u001b[0;34m=\u001b[0m\u001b[0;34m'omit'\u001b[0m\u001b[0;34m)\u001b[0m\u001b[0;34m\u001b[0m\u001b[0;34m\u001b[0m\u001b[0m\n\u001b[0m",
            "\u001b[0;31mNameError\u001b[0m: name 'ttest_ind' is not defined"
          ]
        }
      ]
    },
    {
      "cell_type": "code",
      "metadata": {
        "id": "3_SwuDA4jgIi",
        "colab_type": "code",
        "colab": {}
      },
      "source": [
        "# With a high DoF (DoF = 50), the t-distribution approaches a Normal distribution\n",
        "# which is a symetric distribution\n",
        "pvalue = 1.120182365562498e-55 / 2\n",
        "print('The p-value for my one-sided test is approximately: ', pvalue)"
      ],
      "execution_count": 0,
      "outputs": []
    },
    {
      "cell_type": "markdown",
      "metadata": {
        "id": "kYAxJg-2jgIo",
        "colab_type": "text"
      },
      "source": [
        "$$p-value = 5.6*10^{-56} << 0.01$$"
      ]
    },
    {
      "cell_type": "markdown",
      "metadata": {
        "id": "yk1hYJUWjgIp",
        "colab_type": "text"
      },
      "source": [
        "Therefore, we REJECT THE NULL HYPOTHESIS that the average US price of Insulin has remained the same from 2012 to 2016. We can say with 99% confidence that the price of insulin in the US has increased significantly from 2012 to 2016."
      ]
    },
    {
      "cell_type": "markdown",
      "metadata": {
        "id": "xRi6mTPpLcmv",
        "colab_type": "text"
      },
      "source": [
        "If you don't believe your eyes, a T-Test comparing the average prices of insulin in 2012 and 2016 tells us there is less than a *one in 17 million trillion trillion trillion trillion* chance that we're mistaken. **Something has changed.**"
      ]
    },
    {
      "cell_type": "markdown",
      "metadata": {
        "id": "XITP1oUWSCi8",
        "colab_type": "text"
      },
      "source": [
        "## Eli Lilly Data\n",
        "\n",
        "Under scrutiny from politicians, Eli Lilly [publicly realeased pricing data](https://www.google.com/url?sa=t&rct=j&q=&esrc=s&source=web&cd=12&ved=2ahUKEwjh85yshIjjAhUIhOAKHb12DeQQFjALegQIARAC&url=https%3A%2F%2Finvestor.lilly.com%2Fstatic-files%2Fae580ba4-5d84-4862-a5d2-99a1d784d7a8&usg=AOvVaw1VK-DACJC51Bg5Ye5rJdYQ) for their popular insulin, Humalog. I've converted the data they released into daily prices in the line chart shown (below?).\n",
        "\n",
        "Something peculiar is going on here. Even though the list price of insulin is rising, the net price (the revenue Eli Lilly makes) has gone down a bit. Where is the money going? Enter *Pharmacy Benefit Managers* and *drug rebates*."
      ]
    },
    {
      "cell_type": "code",
      "metadata": {
        "id": "KW8z2RHIQjtc",
        "colab_type": "code",
        "colab": {}
      },
      "source": [
        "# Import data from Eli Lilly press release\n",
        "lilly_years = [2014, 2015, 2016, 2017, 2018]\n",
        "u100_ave_list_price = [391, 480, 539, 588, 594]\n",
        "u100_ave_net_price = [147, 159, 133, 135, 135]"
      ],
      "execution_count": 0,
      "outputs": []
    },
    {
      "cell_type": "code",
      "metadata": {
        "id": "q83iZWbbSp1z",
        "colab_type": "code",
        "colab": {}
      },
      "source": [
        "# Initialize a DataFrame\n",
        "lilly = pd.DataFrame({\n",
        "    \"year\":lilly_years\n",
        "    , \"ave_list_price\":u100_ave_list_price\n",
        "    , \"ave_net_price\":u100_ave_net_price\n",
        "})"
      ],
      "execution_count": 0,
      "outputs": []
    },
    {
      "cell_type": "markdown",
      "metadata": {
        "id": "AsqWfpn1Szrf",
        "colab_type": "text"
      },
      "source": [
        "### Add Unit and Daily Prices"
      ]
    },
    {
      "cell_type": "code",
      "metadata": {
        "id": "7vxGcQuESu01",
        "colab_type": "code",
        "colab": {}
      },
      "source": [
        "# Unit Price\n",
        "lilly['ave_unit_price'] = True\n",
        "lilly['ave_unit_price'] = lilly['ave_list_price'] / 1000\n",
        "\n",
        "# Daily List Price\n",
        "lilly['ave_daily_price'] = True\n",
        "lilly['ave_daily_price'] = lilly['ave_unit_price'] * 60\n",
        "\n",
        "# Daily Net Price\n",
        "lilly['ave_daily_net_price'] = True\n",
        "lilly['ave_daily_net_price'] = (3/50)*lilly['ave_net_price']\n",
        "\n",
        "# Daily Rebate Price\n",
        "lilly['ave_daily_rebate'] = True\n",
        "lilly['ave_daily_rebate'] = lilly['ave_daily_price'] - lilly['ave_daily_net_price']"
      ],
      "execution_count": 0,
      "outputs": []
    },
    {
      "cell_type": "code",
      "metadata": {
        "id": "GTK9yN0LUJdS",
        "colab_type": "code",
        "outputId": "55cc6784-8797-4b43-8ecd-233237db5faa",
        "colab": {
          "base_uri": "https://localhost:8080/",
          "height": 226
        }
      },
      "source": [
        "lilly.head()"
      ],
      "execution_count": 0,
      "outputs": [
        {
          "output_type": "execute_result",
          "data": {
            "text/html": [
              "<div>\n",
              "<style scoped>\n",
              "    .dataframe tbody tr th:only-of-type {\n",
              "        vertical-align: middle;\n",
              "    }\n",
              "\n",
              "    .dataframe tbody tr th {\n",
              "        vertical-align: top;\n",
              "    }\n",
              "\n",
              "    .dataframe thead th {\n",
              "        text-align: right;\n",
              "    }\n",
              "</style>\n",
              "<table border=\"1\" class=\"dataframe\">\n",
              "  <thead>\n",
              "    <tr style=\"text-align: right;\">\n",
              "      <th></th>\n",
              "      <th>year</th>\n",
              "      <th>ave_list_price</th>\n",
              "      <th>ave_net_price</th>\n",
              "      <th>ave_unit_price</th>\n",
              "      <th>ave_daily_price</th>\n",
              "      <th>ave_daily_net_price</th>\n",
              "      <th>ave_daily_rebate</th>\n",
              "    </tr>\n",
              "  </thead>\n",
              "  <tbody>\n",
              "    <tr>\n",
              "      <th>0</th>\n",
              "      <td>2014</td>\n",
              "      <td>391</td>\n",
              "      <td>147</td>\n",
              "      <td>0.391</td>\n",
              "      <td>23.46</td>\n",
              "      <td>8.82</td>\n",
              "      <td>14.64</td>\n",
              "    </tr>\n",
              "    <tr>\n",
              "      <th>1</th>\n",
              "      <td>2015</td>\n",
              "      <td>480</td>\n",
              "      <td>159</td>\n",
              "      <td>0.480</td>\n",
              "      <td>28.80</td>\n",
              "      <td>9.54</td>\n",
              "      <td>19.26</td>\n",
              "    </tr>\n",
              "    <tr>\n",
              "      <th>2</th>\n",
              "      <td>2016</td>\n",
              "      <td>539</td>\n",
              "      <td>133</td>\n",
              "      <td>0.539</td>\n",
              "      <td>32.34</td>\n",
              "      <td>7.98</td>\n",
              "      <td>24.36</td>\n",
              "    </tr>\n",
              "    <tr>\n",
              "      <th>3</th>\n",
              "      <td>2017</td>\n",
              "      <td>588</td>\n",
              "      <td>135</td>\n",
              "      <td>0.588</td>\n",
              "      <td>35.28</td>\n",
              "      <td>8.10</td>\n",
              "      <td>27.18</td>\n",
              "    </tr>\n",
              "    <tr>\n",
              "      <th>4</th>\n",
              "      <td>2018</td>\n",
              "      <td>594</td>\n",
              "      <td>135</td>\n",
              "      <td>0.594</td>\n",
              "      <td>35.64</td>\n",
              "      <td>8.10</td>\n",
              "      <td>27.54</td>\n",
              "    </tr>\n",
              "  </tbody>\n",
              "</table>\n",
              "</div>"
            ],
            "text/plain": [
              "   year  ave_list_price  ...  ave_daily_net_price  ave_daily_rebate\n",
              "0  2014             391  ...                 8.82             14.64\n",
              "1  2015             480  ...                 9.54             19.26\n",
              "2  2016             539  ...                 7.98             24.36\n",
              "3  2017             588  ...                 8.10             27.18\n",
              "4  2018             594  ...                 8.10             27.54\n",
              "\n",
              "[5 rows x 7 columns]"
            ]
          },
          "metadata": {
            "tags": []
          },
          "execution_count": 53
        }
      ]
    },
    {
      "cell_type": "markdown",
      "metadata": {
        "id": "gxX3W0LfUqrT",
        "colab_type": "text"
      },
      "source": [
        "### Lineplot"
      ]
    },
    {
      "cell_type": "code",
      "metadata": {
        "id": "P-ZkH_TwUKsM",
        "colab_type": "code",
        "outputId": "457bc5c6-835d-4456-ea79-c18ba5a02995",
        "colab": {
          "base_uri": "https://localhost:8080/",
          "height": 341
        }
      },
      "source": [
        "# Initialize plot\n",
        "plt.style.use('seaborn-darkgrid');\n",
        "fig = plt.figure(figsize=[22, 20], dpi=300);\n",
        "\n",
        "ax = lilly.plot.line('year', ['ave_daily_price', 'ave_daily_rebate', 'ave_daily_net_price']);\n",
        "\n",
        "# Title\n",
        "ax.text(x=2014.4, y=55, s=\"Prices rise while Eli Lilly's Revenue Falls\", fontsize=14, fontweight='bold');\n",
        "\n",
        "# Subtitle\n",
        "ax.text(x=2015.1, y=52, s=\"Where is the money going?\", fontsize=12);\n",
        "\n",
        "# Set x-axis label\n",
        "plt.xlabel(x=.5, y=-.8, xlabel=\"Year\", fontsize=12, fontweight=\"bold\", labelpad=15);\n",
        "plt.xticks(lilly['year']);\n",
        "\n",
        "plt.xlim(2014, 2018);\n",
        "\n",
        "# Set y-axis label\n",
        "plt.ylabel(x=1, y=.5, ylabel=\"Daily Price of Insulin\", fontsize=12, fontweight=\"bold\", labelpad=15);\n",
        "plt.yticks([10, 20, 30, 40], ['$10', '$20', '$30', '$40']);\n",
        "\n",
        "plt.ylim(0, 50);\n",
        "\n",
        "# Legend\n",
        "ax.legend(['List Price', 'Rebate', 'Net Price']);\n",
        "\n",
        "plt.savefig(fname='lilly', dpi=300, bbox_inches = 'tight')"
      ],
      "execution_count": 0,
      "outputs": [
        {
          "output_type": "display_data",
          "data": {
            "text/plain": [
              "<Figure size 6600x6000 with 0 Axes>"
            ]
          },
          "metadata": {
            "tags": []
          }
        },
        {
          "output_type": "display_data",
          "data": {
            "image/png": "[encoded data removed]",
            "text/plain": [
              "<Figure size 432x288 with 1 Axes>"
            ]
          },
          "metadata": {
            "tags": []
          }
        }
      ]
    },
    {
      "cell_type": "markdown",
      "metadata": {
        "id": "lXLMs05LoAWI",
        "colab_type": "text"
      },
      "source": [
        "**[Who are Pharmacy Benefit Managers (PBMs)](https://www.pcmanet.org/our-industry/)**. PBMs negotiate prescription drug prices with producers, and 'improve safety and convenience' for those who have insurance.\n",
        "\n",
        "Negotiations and pricing data are kept strictly confidential, but for some reason PBMs and insulin producers have decided to raise the list price and rebate offered for insulin. If you have good insurance, this probably didn't affect you at all. Those with no insurance or high-deductable plans could pay all or most of the list price.\n",
        "\n"
      ]
    },
    {
      "cell_type": "markdown",
      "metadata": {
        "id": "91Rw-nTBnBT-",
        "colab_type": "text"
      },
      "source": [
        "## Closing"
      ]
    },
    {
      "cell_type": "code",
      "metadata": {
        "id": "bQYHT_IKnMXZ",
        "colab_type": "code",
        "colab": {
          "base_uri": "https://localhost:8080/",
          "height": 34
        },
        "outputId": "b7a08632-b99f-4c26-a698-22a6f5795ac2"
      },
      "source": [
        "len('Insulin prices doubled from 2012 to 2016 while insulin producers make less. The rise of Pharmacy Benefit Managers helps those with insurance and hurts those with high-deductible or no insurance.')"
      ],
      "execution_count": 56,
      "outputs": [
        {
          "output_type": "execute_result",
          "data": {
            "text/plain": [
              "194"
            ]
          },
          "metadata": {
            "tags": []
          },
          "execution_count": 56
        }
      ]
    },
    {
      "cell_type": "markdown",
      "metadata": {
        "id": "XB70ibeJeUmK",
        "colab_type": "text"
      },
      "source": [
        "### Short Summary < 280 Characters\n",
        "\n",
        "Insulin prices doubled from 2012 to 2016 while insulin producers make less. The rise of Pharmacy Benefit Managers helps those with insurance and hurts those with high-deductible or no insurance."
      ]
    }
  ]
}